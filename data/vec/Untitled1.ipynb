{
 "cells": [
  {
   "cell_type": "code",
   "execution_count": 5,
   "id": "92b8a686-5f09-47c4-895f-775a06308125",
   "metadata": {},
   "outputs": [
    {
     "name": "stdout",
     "output_type": "stream",
     "text": [
      "Fetching 2 (P_REFSEQ_AC->ACC) mappings from http://uniprot.org...\n",
      "Error in fetching metadata\n",
      "[]\n"
     ]
    }
   ],
   "source": [
    "import uniprot\n",
    "import pprint\n",
    "seqids = \"NP_000508.1  NP_001018081.3\".split()\n",
    "\n",
    "pairs = uniprot.batch_uniprot_id_mapping_pairs(\n",
    "  'P_REFSEQ_AC', 'ACC', seqids)\n",
    "\n",
    "pprint.pprint(pairs, indent=2)"
   ]
  },
  {
   "cell_type": "code",
   "execution_count": 6,
   "id": "b8346a7f-03fd-481f-82dc-931d3a29810e",
   "metadata": {},
   "outputs": [
    {
     "name": "stdout",
     "output_type": "stream",
     "text": [
      "Fetching metadata for 3 Uniprot IDs from http://uniprot.org ...\n",
      "Error in fetching metadata\n"
     ]
    },
    {
     "ename": "NameError",
     "evalue": "name 'mapping' is not defined",
     "output_type": "error",
     "traceback": [
      "\u001b[0;31m---------------------------------------------------------------------------\u001b[0m",
      "\u001b[0;31mNameError\u001b[0m                                 Traceback (most recent call last)",
      "Cell \u001b[0;32mIn[6], line 4\u001b[0m\n\u001b[1;32m      1\u001b[0m uniprot_seqids \u001b[38;5;241m=\u001b[39m \u001b[38;5;124m'\u001b[39m\u001b[38;5;124mA0QSU3 D9QCH6 A0QL36\u001b[39m\u001b[38;5;124m'\u001b[39m\u001b[38;5;241m.\u001b[39msplit()\n\u001b[1;32m      2\u001b[0m uniprot_data \u001b[38;5;241m=\u001b[39m uniprot\u001b[38;5;241m.\u001b[39mbatch_uniprot_metadata(\n\u001b[1;32m      3\u001b[0m     uniprot_seqids, \u001b[38;5;124m'\u001b[39m\u001b[38;5;124mcache\u001b[39m\u001b[38;5;124m'\u001b[39m)\n\u001b[0;32m----> 4\u001b[0m pprint\u001b[38;5;241m.\u001b[39mpprint(\u001b[43mmapping\u001b[49m, indent\u001b[38;5;241m=\u001b[39m\u001b[38;5;241m2\u001b[39m)\n",
      "\u001b[0;31mNameError\u001b[0m: name 'mapping' is not defined"
     ]
    }
   ],
   "source": [
    "uniprot_seqids = 'A0QSU3 D9QCH6 A0QL36'.split()\n",
    "uniprot_data = uniprot.batch_uniprot_metadata(\n",
    "    uniprot_seqids, 'cache')\n",
    "pprint.pprint(mapping, indent=2)"
   ]
  },
  {
   "cell_type": "code",
   "execution_count": 10,
   "id": "fcd27a21-ecc1-45aa-a2d3-d1ccc9bd19d6",
   "metadata": {},
   "outputs": [
    {
     "ename": "ModuleNotFoundError",
     "evalue": "No module named 'Bio'",
     "output_type": "error",
     "traceback": [
      "\u001b[0;31m---------------------------------------------------------------------------\u001b[0m",
      "\u001b[0;31mModuleNotFoundError\u001b[0m                       Traceback (most recent call last)",
      "Cell \u001b[0;32mIn[10], line 2\u001b[0m\n\u001b[1;32m      1\u001b[0m \u001b[38;5;28;01mimport\u001b[39;00m \u001b[38;5;21;01mrequests\u001b[39;00m \u001b[38;5;28;01mas\u001b[39;00m \u001b[38;5;21;01mr\u001b[39;00m\n\u001b[0;32m----> 2\u001b[0m \u001b[38;5;28;01mfrom\u001b[39;00m \u001b[38;5;21;01mBio\u001b[39;00m \u001b[38;5;28;01mimport\u001b[39;00m SeqIO\n\u001b[1;32m      3\u001b[0m \u001b[38;5;28;01mfrom\u001b[39;00m \u001b[38;5;21;01mio\u001b[39;00m \u001b[38;5;28;01mimport\u001b[39;00m StringIO\n\u001b[1;32m      5\u001b[0m cID\u001b[38;5;241m=\u001b[39m\u001b[38;5;124m'\u001b[39m\u001b[38;5;124mP04637\u001b[39m\u001b[38;5;124m'\u001b[39m\n",
      "\u001b[0;31mModuleNotFoundError\u001b[0m: No module named 'Bio'"
     ]
    }
   ],
   "source": [
    "import requests as r\n",
    "from Bio import SeqIO\n",
    "from io import StringIO\n",
    "\n",
    "cID='P04637'\n",
    "\n",
    "baseUrl=\"http://www.uniprot.org/uniprot/\"\n",
    "currentUrl=baseUrl+cID+\".fasta\"\n",
    "response = r.post(currentUrl)\n",
    "cData=''.join(response.text)\n",
    "\n",
    "Seq=StringIO(cData)\n",
    "pSeq=list(SeqIO.parse(Seq,'fasta'))"
   ]
  },
  {
   "cell_type": "code",
   "execution_count": 12,
   "id": "d28fae25-9f41-47b6-9098-692c3480fb67",
   "metadata": {},
   "outputs": [
    {
     "name": "stdout",
     "output_type": "stream",
     "text": [
      "{'Drug_ID': array(['DB00672', 'DB00116', 'DB06663', ..., 'DB00610', 'DB08903',\n",
      "       'DB00474'], dtype=object), 'Drug': array(['CCCNC(=O)NS(=O)(=O)C1=CC=C(C=C1)Cl',\n",
      "       'C1C(NC2=C(N1)N=C(NC2=O)N)CNC3=CC=C(C=C3)C(=O)N[C@@H](CCC(=O)O)C(=O)O',\n",
      "       'C1[C@H](CN2[C@@H]1C(=O)N[C@H](C(=O)N[C@@H](C(=O)N[C@H](C(=O)N[C@H](C(=O)N[C@H](C2=O)CC3=CC=CC=C3)CC4=CC=C(C=C4)OCC5=CC=CC=C5)CCCCN)CC6=CNC7=CC=CC=C76)C8=CC=CC=C8)OC(=O)NCCN',\n",
      "       ..., 'C[C@@H]([C@@H](C1=CC(=CC=C1)O)O)N',\n",
      "       'CN(C)CC[C@@](C1=CC=CC2=CC=CC=C21)([C@H](C3=CC=CC=C3)C4=C(N=C5C=CC(=CC5=C4)Br)OC)O',\n",
      "       'CCC#CC(C)C1(C(=O)NC(=O)N(C1=O)C)CC=C'], dtype=object), 'Morgan_Features': 0       [0, 0, 0, 0, 0, 0, 0, 0, 0, 0, 0, 0, 0, 0, 0, ...\n",
      "1       [0, 1, 0, 0, 0, 0, 0, 0, 0, 0, 0, 0, 0, 0, 0, ...\n",
      "2       [0, 0, 0, 0, 0, 1, 0, 0, 0, 0, 1, 0, 0, 0, 1, ...\n",
      "4       [0, 0, 0, 0, 0, 0, 0, 0, 0, 0, 0, 0, 0, 0, 0, ...\n",
      "6       [0, 0, 0, 0, 0, 0, 0, 0, 0, 0, 0, 0, 0, 0, 0, ...\n",
      "                              ...                        \n",
      "9640    [0, 0, 0, 0, 0, 0, 0, 0, 0, 0, 0, 0, 0, 0, 0, ...\n",
      "9751    [0, 0, 0, 1, 1, 0, 0, 1, 0, 0, 0, 0, 0, 0, 0, ...\n",
      "9760    [0, 1, 0, 0, 0, 0, 0, 0, 0, 0, 0, 0, 0, 0, 0, ...\n",
      "9787    [0, 1, 0, 1, 0, 0, 0, 0, 0, 0, 0, 0, 0, 0, 0, ...\n",
      "9801    [0, 1, 0, 0, 0, 0, 0, 0, 0, 0, 0, 0, 0, 0, 0, ...\n",
      "Name: Morgan_Features, Length: 1478, dtype: object, 'Drug_enco': [569, nan, 1030, 668, 804, 231, 600, 228, 373, 164, 985, nan, 407, 1480, 234, 175, 166, 1080, nan, 580, 374, 677, 987, 712, 1633, 501, 280, 1049, 281, 482, 272, 1316, 509, 1634, 537, 967, 1078, nan, 270, 558, 443, 347, 779, 165, 468, 680, 823, 258, 1261, 450, 816, 1202, 1112, 460, 641, 532, 955, 586, 587, 1427, 813, 1154, 581, nan, 1568, nan, 198, 251, nan, 621, 645, 1019, 1578, 590, 608, 629, 31, 477, 992, 319, 326, 103, 1275, 332, 181, 143, 567, 976, 221, 294, 669, nan, 695, 530, 135, 156, 196, 709, 1260, 1201, 1196, 189, 202, 208, 664, 1118, 438, 414, 929, nan, 869, 937, 320, 266, 496, 467, 444, 458, 483, 857, 1020, 47, 515, 302, 200, 1306, 1058, 977, 536, 394, 1620, 740, 952, nan, 255, 884, 473, 619, 1299, 512, 1709, 516, nan, 1088, 193, 125, 684, 861, 1421, nan, 556, 161, 371, 235, 932, 598, 1304, 60, 750, 437, 1084, 1168, 59, 634, 1361, 1295, 681, 32, 704, 914, 80, 188, 620, 474, 1504, 448, 961, 354, 307, 593, 486, 44, 1006, 262, 648, 653, 76, 142, 343, 179, 585, 666, 1176, 472, 1254, 170, 1212, 316, 369, 404, 622, 194, 157, 1270, 92, 225, 748, 1156, 1481, 377, 676, 521, nan, 1138, nan, 308, 1437, 912, 1310, 1220, 523, 370, 882, 488, 315, 229, 53, 544, nan, 119, 260, 1251, 887, 158, 628, 1117, 1069, 871, 894, 1533, 724, 527, 1033, 1277, 1369, 659, 616, 1426, 820, 259, 39, 1278, 1428, 714, 1524, 1218, 18, 731, 886, 675, 63, 1133, 230, 275, 12, 1086, 691, 312, 264, 726, 982, 968, 405, nan, 1012, 916, 1091, 1208, 1256, 1348, 226, 565, 350, 577, 981, 267, 881, 415, 1131, 248, 959, 317, 499, 1157, 359, 487, 1585, 678, 273, 360, 1199, 299, 1219, 334, 392, 1169, 431, 661, 253, 757, 358, 203, 944, 357, 292, 503, 352, 1566, 570, 257, 201, nan, 533, 298, 926, nan, 764, 1537, 297, 1435, 540, 1335, 1098, 147, nan, 1170, 550, 440, 282, 172, 283, 1134, 26, nan, 171, 1081, 979, 207, nan, 574, 1470, 336, 839, 290, nan, 504, 836, 1455, 989, 805, 1367, 1197, 497, 526, 606, 364, 413, 162, 288, 1697, 428, 244, 233, 127, 22, 883, 694, 471, 177, 543, 983, nan, 35, 674, 834, 1036, 435, 199, 736, 1475, 755, 738, 1407, 618, 555, 721, 388, 739, 287, 673, 588, 252, 642, 1120, 1416, 1590, 1007, 276, 1328, 180, 159, 51, 79, 1401, nan, 1293, 1627, 106, nan, 1419, 416, 1115, 1243, 1695, 925, 713, 610, nan, nan, 785, 851, 1111, 1040, 1126, 1358, 67, 1282, 928, 1226, nan, 1085, 1207, 660, 69, 1074, 637, 457, 576, 500, 219, 939, 396, 70, 408, 566, 1354, 329, 1392, 153, 190, 247, 239, 859, 139, 98, 1271, 559, nan, 232, 330, 417, 1366, 454, 261, 1172, 730, 1123, 1001, 1094, 644, 120, nan, nan, 1323, 1430, 639, 1317, 1107, 439, 706, 592, 1011, 1648, 20, 187, 446, 495, 385, 274, 650, nan, 1287, 1456, 812, 1070, 1318, 335, 998, 209, 452, 786, 277, 400, 954, 1023, 1536, 409, 1184, 999, 700, nan, 1395, 346, 46, nan, 384, 124, 245, 831, 1389, 1341, 491, 885, nan, nan, 1060, 131, 1124, 1305, 455, 16, 601, 1145, 1359, 1093, 426, 1379, 447, 353, 640, 38, 866, 55, 901, 28, 484, 878, 1388, 379, 1614, 1400, 362, 72, 617, 571, 1408, 1026, 510, 442, nan, 611, 931, 563, 1301, 397, 1185, 41, 822, 578, 42, 195, 670, 478, 197, nan, 1279, 1671, 163, 663, 1281, 1343, 1373, 321, 430, 144, 1099, 1213, 137, 1032, 1018, 1376, nan, 1171, 83, 1386, 1229, 1378, 824, nan, 864, 529, 1233, 1531, 1532, 1037, 268, 561, 524, 507, 237, 531, 453, 1186, 705, 309, 1549, 671, 269, 940, 828, 465, 97, nan, 1474, 1095, nan, 214, 562, 632, 658, 656, 1189, 412, nan, 795, 327, 1615, nan, nan, 840, 652, 1268, 514, 459, 1097, nan, 1200, 224, 182, 278, nan, 1493, 907, 548, nan, 1402, 1068, 1272, 84, 434, 729, 818, 1090, 597, 57, 635, 568, 1136, nan, 322, 1410, nan, 1551, 82, 972, nan, nan, 1629, 609, 633, 490, 845, 698, 842, 522, 141, 542, 718, 1355, 686, 614, 324, 811, 1332, 1263, 420, 799, 1127, 1003, 1010, 575, 1646, 376, 43, 250, nan, 236, nan, 341, 1104, 206, 289, 1441, 451, 391, 1288, 505, 4, 549, nan, 525, 1028, 111, 295, nan, 1225, 424, 1653, 243, 1526, 1284, 1424, 1072, 238, 1031, nan, 1223, 210, 303, 1017, 655, nan, 715, 1631, 64, 1191, 1244, 1231, 1130, 30, 494, 121, 703, 429, 1022, 1173, 466, 1346, 492, 1494, 599, 1422, nan, 29, 21, 951, 1240, 604, 14, 508, nan, 973, 314, 909, 1298, 1655, 897, 375, 1057, 1079, 1433, 1055, nan, 1162, 1296, 541, 65, 651, 1014, 1308, 589, 410, 613, 892, 1210, 383, 432, 631, 602, 77, 1636, 774, 767, 835, 711, 689, 1309, nan, 749, 263, 546, 1110, nan, 934, nan, 36, 122, 806, 1067, 7, 1248, 1357, 481, 743, 1350, 1639, 964, 304, nan, 1224, 787, 1406, 390, 688, 1062, 560, 808, 1077, nan, 1675, 539, nan, nan, nan, 1265, 105, nan, 401, 56, 970, 310, 564, 1345, 647, 1663, 387, 1038, 441, 1352, 654, 68, 109, 1338, 1466, 183, 1016, 318, 1238, 34, 1507, 93, 1241, nan, 403, 138, 74, 518, nan, 1203, 880, 1477, 1076, 535, 991, 803, 249, 1071, 636, 1616, 1431, 1439, 978, 554, 506, 657, 223, 27, 1242, 296, 1021, 445, nan, nan, 1651, 284, 920, nan, 150, 1051, 345, 801, nan, 528, 513, 1362, 152, 623, 1542, nan, nan, 693, 285, 205, 915, 1015, 708, 572, 340, 1215, 867, nan, 485, nan, 662, 1425, 23, 114, 186, 980, 227, 1465, nan, 216, 265, 62, 1228, 1046, 386, 1365, 242, 717, 365, 933, 603, 1054, 1705, 311, 679, 1181, 50, 974, 596, 643, nan, 752, 699, 254, 630, 463, 363, 1574, 1383, 1486, nan, 1418, 889, 1283, 1517, 1190, 464, 502, 1525, 1065, 10, 81, 1562, 395, 1681, nan, 832, 852, 765, 1322, 54, 212, 1048, 1403, 798, 116, 1529, 1291, nan, 1472, 1511, 1042, 1230, 1029, nan, 423, 215, 99, 1039, 1409, nan, 192, 702, 1108, 1396, 1050, 461, nan, 1314, 1002, 638, 349, 775, 204, 1556, 2, nan, 313, 1412, nan, 672, 900, 1640, 582, 155, 128, 1385, 389, 1342, 140, 1125, 1660, 48, 1445, 40, 433, 1227, 1082, nan, 167, 1307, 517, 1482, 735, 1500, 1320, 971, 1478, 741, 1109, 519, 361, 151, 19, 1372, 425, 301, 351, 1259, 1143, 584, 191, 594, 753, 947, 579, 607, 1669, 919, 1334, 626, 1668, 291, 1027, 271, 328, 462, 176, 279, 1092, 893, 58, 727, 942, 846, 1035, nan, 96, 615, 300, 1484, 860, 1247, 11, nan, 1100, 720, 1178, 1234, 1161, 1187, 1547, 149, 1545, 1670, 145, 45, 1382, 355, 342, 1237, 1179, 965, 891, 211, 1641, 1654, 498, 745, 1121, 732, 1624, 797, nan, 1174, nan, 168, 101, 1688, 1488, 1083, 1321, nan, 911, 858, nan, 551, nan, 1129, nan, nan, 1327, nan, 762, 719, nan, 1297, 924, 1630, 1696, nan, nan, 1693, 1303, 830, 768, 1116, 1089, 338, 286, 534, 511, 1508, 1034, 722, 1004, 398, 850, 1368, 1515, 1045, 469, 1325, 761, 1609, 1520, 697, 844, 378, 1236, 331, 975, 411, 692, 957, 1180, 744, nan, 1375, 132, 344, 372, 1381, 862, 1292, 756, nan, 591, nan, 1114, 1005, 1499, 427, 1643, 1581, 723, 833, 1447, 476, 1135, 154, nan, nan, 1656, 173, 222, nan, 1394, 475, 1349, nan, 769, 73, 1680, 956, 1158, 1637, 17, 941, 218, 829, 493, 169, 1674, 1509, nan, nan, 117, 953, 849, nan, nan, nan, 115, 1538, 984, 1450, 1066, 784, 1257, 1464, 547, 305, 1175, 1324, 419, 1267, 649, nan, 1679, 754, nan, 545, 716, 1047, nan, nan, 1192, 479, 1420, nan, 113, 130, nan, nan, 1519, 994, 348, 104, 1141, 1290, nan, nan, 1177, nan, 123, 1132, 1044, 1502, 1326, 1052, 990, 1294, 1221, 1489, 1339, 333, nan, 792, 87, 380, nan, 1626, 1353, 1337, 1159, 710, 1621, 938, 1678, 1235, 966, 184, 1458, 1440, 1446, 75, 1252, nan, 107, 1591, 1521, 917, 782, 1087, 1209, 780, nan, 37, 1059, nan, 969, 174, 1061, 1404, nan, 1596, 1415, nan, 1103, nan, 1360, 1311, 1451, 1576, 24, nan, nan, 821, 421, 962, 1289, 489, 1113, 1604, 997, 1479, 1510, 1149, 945, 1552, 1473, 1652, 1105, 1587, 1053, 1102, 306, 874, 1364, nan, 1423, 809, 1483, 1000, 1214, 1398, 1347, 1393, 1468, 25, 133, 665, nan, 393, 1448, 682, 339, 557, 758, 1285, nan, 552, 1043, 1344, nan, 1024, 1650, 1232, nan, 1649, 110, 1041, 1672, 1013, 1457, 879, 1064, 1544, nan, 865, 725, 1535, 921, 1497, 1708, 751, 456, 1008, 800, 1258, 949, 583, nan, 890, 1550, 1211, 1165, 1255, 1262, 15, 1667, 1319, nan, 1595, 802, 788, 1063, 827, 1148, 1498, 734, 134, 1518, 1610, nan, 1249, 1530, nan, nan, 895, 1188, 728, 1315, 240]}\n"
     ]
    }
   ],
   "source": [
    "import pickle\n",
    "\n",
    "with open(file='VEC_drug_feats.pkl', mode='rb') as f:\n",
    "    b = pickle.load(f)\n",
    "    \n",
    "print(b)"
   ]
  },
  {
   "cell_type": "code",
   "execution_count": 11,
   "id": "43478b6a-7dd5-448b-8fd9-35db8183cb6b",
   "metadata": {},
   "outputs": [
    {
     "name": "stdout",
     "output_type": "stream",
     "text": [
      "/bin/bash: ungzip: 명령어를 찾을 수 없음\n"
     ]
    }
   ],
   "source": [
    "!ungzip uniprot_sprot_varsplic.fasta.gz"
   ]
  },
  {
   "cell_type": "code",
   "execution_count": 52,
   "id": "f65ad2b6-b837-4c66-bd54-3e8f1ee09e95",
   "metadata": {},
   "outputs": [
    {
     "data": {
      "text/html": [
       "<div>\n",
       "<style scoped>\n",
       "    .dataframe tbody tr th:only-of-type {\n",
       "        vertical-align: middle;\n",
       "    }\n",
       "\n",
       "    .dataframe tbody tr th {\n",
       "        vertical-align: top;\n",
       "    }\n",
       "\n",
       "    .dataframe thead th {\n",
       "        text-align: right;\n",
       "    }\n",
       "</style>\n",
       "<table border=\"1\" class=\"dataframe\">\n",
       "  <thead>\n",
       "    <tr style=\"text-align: right;\">\n",
       "      <th></th>\n",
       "      <th>Target_ID</th>\n",
       "      <th>Drug_ID</th>\n",
       "    </tr>\n",
       "  </thead>\n",
       "  <tbody>\n",
       "    <tr>\n",
       "      <th>0</th>\n",
       "      <td>Q16348</td>\n",
       "      <td>DB00672</td>\n",
       "    </tr>\n",
       "    <tr>\n",
       "      <th>539</th>\n",
       "      <td>P23219</td>\n",
       "      <td>DB00672</td>\n",
       "    </tr>\n",
       "    <tr>\n",
       "      <th>4527</th>\n",
       "      <td>P46059</td>\n",
       "      <td>DB00672</td>\n",
       "    </tr>\n",
       "    <tr>\n",
       "      <th>4970</th>\n",
       "      <td>P08183</td>\n",
       "      <td>DB00672</td>\n",
       "    </tr>\n",
       "    <tr>\n",
       "      <th>5222</th>\n",
       "      <td>Q09428</td>\n",
       "      <td>DB00672</td>\n",
       "    </tr>\n",
       "    <tr>\n",
       "      <th>5249</th>\n",
       "      <td>Q4U2R8</td>\n",
       "      <td>DB00672</td>\n",
       "    </tr>\n",
       "    <tr>\n",
       "      <th>5543</th>\n",
       "      <td>P11712</td>\n",
       "      <td>DB00672</td>\n",
       "    </tr>\n",
       "    <tr>\n",
       "      <th>5819</th>\n",
       "      <td>P33261</td>\n",
       "      <td>DB00672</td>\n",
       "    </tr>\n",
       "  </tbody>\n",
       "</table>\n",
       "</div>"
      ],
      "text/plain": [
       "     Target_ID  Drug_ID\n",
       "0       Q16348  DB00672\n",
       "539     P23219  DB00672\n",
       "4527    P46059  DB00672\n",
       "4970    P08183  DB00672\n",
       "5222    Q09428  DB00672\n",
       "5249    Q4U2R8  DB00672\n",
       "5543    P11712  DB00672\n",
       "5819    P33261  DB00672"
      ]
     },
     "execution_count": 52,
     "metadata": {},
     "output_type": "execute_result"
    }
   ],
   "source": [
    "import pandas as pd\n",
    "import numpy as np\n",
    "\n",
    "DTI_table = pd.read_csv(\"R_DrugBank.txt\", delimiter=\"\\t\", header = None)\n",
    "DTI_table.columns = [\"Target_ID\", \"Drug_ID\"]\n",
    "DTI_table[DTI_table[\"Drug_ID\"] == \"DB00672\"]"
   ]
  },
  {
   "cell_type": "code",
   "execution_count": 56,
   "id": "c667945e-f568-4767-a900-aab102e12853",
   "metadata": {},
   "outputs": [],
   "source": [
    "smiles = pd.read_csv(\"dti2vec_drugbankid2smiles\", delimiter=\"\\t\", header = None)\n",
    "smiles.columns = [\"Drug_ID\", \"Drug\"]\n",
    "DTI_table_1 = pd.merge(DTI_table, smiles, on = \"Drug_ID\").drop_duplicates()"
   ]
  },
  {
   "cell_type": "code",
   "execution_count": 73,
   "id": "15e73314-8729-4c17-b3e3-8586305df41a",
   "metadata": {},
   "outputs": [],
   "source": [
    "seq = pd.read_csv(\"origin_proteins.csv\").drop(\"Unnamed: 0\",axis = 1)\n",
    "seq.columns = [\"Target_ID\", \"Target\"]\n",
    "DTI_table_2 = pd.merge(DTI_table_1, seq, on = \"Target_ID\").drop_duplicates()"
   ]
  },
  {
   "cell_type": "code",
   "execution_count": 92,
   "id": "94f9a13a-0a92-493c-a697-668d06b76296",
   "metadata": {},
   "outputs": [],
   "source": [
    "DTI_table_2['rel'] = 1"
   ]
  },
  {
   "cell_type": "code",
   "execution_count": 91,
   "id": "a8d76229-abe8-4426-be94-ae17c5511eca",
   "metadata": {},
   "outputs": [],
   "source": [
    "import numpy as np\n",
    "\n",
    "neg_gene = []\n",
    "neg_drug = []\n",
    "count = 0\n",
    "while (True) :\n",
    "    gene = np.random.choice(DTI_table_2[\"Target_ID\"])\n",
    "    drug = np.random.choice(DTI_table_2[\"Drug_ID\"])\n",
    "    \n",
    "    if (gene, drug) not in rel_true :\n",
    "        neg_gene.append(gene)\n",
    "        neg_drug.append(drug)\n",
    "        count +=1\n",
    "    if count >= 9864 :\n",
    "        break"
   ]
  },
  {
   "cell_type": "code",
   "execution_count": 81,
   "id": "207ead1d-2ca4-4fe2-8a1d-b884bc0852fe",
   "metadata": {},
   "outputs": [],
   "source": [
    "def make_set_by_values(key1, key2) :\n",
    "    result = set()\n",
    "    for i in range(0,len(key1)) :\n",
    "        result.add((key1[i], key2[i]))\n",
    "    return result\n",
    "rel_true = make_set_by_values(DTI_table_2[\"Target_ID\"], DTI_table_2[\"Drug_ID\"])\n",
    "\n"
   ]
  },
  {
   "cell_type": "code",
   "execution_count": 113,
   "id": "3f12c7a5-0a55-482c-9064-940e05a1ec5c",
   "metadata": {},
   "outputs": [],
   "source": [
    "neg = pd.DataFrame({\"Target_ID\" : neg_gene, \"Drug_ID\" : neg_drug})\n",
    "neg_seq = pd.merge(neg, seq, on = \"Target_ID\")\n",
    "neg_smile = pd.merge(neg_seq, smiles, on = \"Drug_ID\").drop_duplicates()\n",
    "neg_smile[\"rel\"] = 0"
   ]
  },
  {
   "cell_type": "code",
   "execution_count": 132,
   "id": "c3c691fd-ff2f-466c-a553-c40237bca839",
   "metadata": {},
   "outputs": [],
   "source": [
    "df = pd.concat([DTI_table_2, neg_smile])"
   ]
  },
  {
   "cell_type": "code",
   "execution_count": 135,
   "id": "5f7f908e-1e58-42c8-8ee5-35822053882e",
   "metadata": {},
   "outputs": [
    {
     "name": "stdout",
     "output_type": "stream",
     "text": [
      "Training data shape: (13434, 5)\n",
      "Testing data shape: (3838, 5)\n",
      "Validation data shape: (1920, 5)\n"
     ]
    }
   ],
   "source": [
    "import pandas as pd\n",
    "import numpy as np\n",
    "\n",
    "# Load the dataset as a pandas DataFrame\n",
    "\n",
    "# Shuffle the DataFrame rows\n",
    "df = df.sample(frac=1, random_state=42).reset_index(drop=True).dropna()\n",
    "df.columns = [\"Target_ID\", \"Drug_ID\", \"Drug\", \"Target\", \"Y\"]\n",
    "# Split the dataset into training, testing, and validation sets\n",
    "train_size = 0.7\n",
    "test_size = 0.2\n",
    "val_size = 0.1\n",
    "\n",
    "train_split_index = int(len(df) * train_size)\n",
    "test_split_index = int(len(df) * (train_size + test_size))\n",
    "\n",
    "train_data = df.iloc[:train_split_index]\n",
    "test_data = df.iloc[train_split_index:test_split_index]\n",
    "val_data = df.iloc[test_split_index:]\n",
    "\n",
    "# Print the shapes of the resulting datasets\n",
    "print('Training data shape:', train_data.shape)\n",
    "print('Testing data shape:', test_data.shape)\n",
    "print('Validation data shape:', val_data.shape)\n",
    "\n",
    "train_data.to_csv('vec_train_origin.csv',index=False)\n",
    "test_data.to_csv('vec_test_origin.csv',index=False)\n",
    "val_data.to_csv('vec_dev_origin.csv', index=False)"
   ]
  },
  {
   "cell_type": "code",
   "execution_count": null,
   "id": "8faa6bfc-1e65-43ca-9c3e-7be5ebedef06",
   "metadata": {},
   "outputs": [],
   "source": [
    "df"
   ]
  },
  {
   "cell_type": "code",
   "execution_count": null,
   "id": "37a4571e-2284-45ca-a3ef-27133c530b3d",
   "metadata": {},
   "outputs": [],
   "source": []
  }
 ],
 "metadata": {
  "kernelspec": {
   "display_name": "moon_env",
   "language": "python",
   "name": "tf_1"
  },
  "language_info": {
   "codemirror_mode": {
    "name": "ipython",
    "version": 3
   },
   "file_extension": ".py",
   "mimetype": "text/x-python",
   "name": "python",
   "nbconvert_exporter": "python",
   "pygments_lexer": "ipython3",
   "version": "3.8.15"
  }
 },
 "nbformat": 4,
 "nbformat_minor": 5
}
