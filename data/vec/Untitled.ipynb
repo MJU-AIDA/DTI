{
 "cells": [
  {
   "cell_type": "code",
   "execution_count": 2,
   "id": "f2d27e1c-bd30-41a1-b1db-a4514ab20711",
   "metadata": {},
   "outputs": [
    {
     "name": "stderr",
     "output_type": "stream",
     "text": [
      "/home/max38744/.conda/envs/moon/lib/python3.8/site-packages/tqdm/auto.py:21: TqdmWarning: IProgress not found. Please update jupyter and ipywidgets. See https://ipywidgets.readthedocs.io/en/stable/user_install.html\n",
      "  from .autonotebook import tqdm as notebook_tqdm\n"
     ]
    }
   ],
   "source": [
    "import numpy as np\n",
    "import pandas as pd\n",
    "import sys\n",
    "original_path = sys.path.copy()\n",
    "sys.path.insert(0, '../../nodefeaturing')\n",
    "from generating_feature import generating_pro_feature, generating_drug_feature, concat_feature\n",
    "sys.path = original_path"
   ]
  },
  {
   "cell_type": "code",
   "execution_count": 59,
   "id": "c9d93d7a-7a71-43b5-a028-721716dc9e1f",
   "metadata": {},
   "outputs": [
    {
     "data": {
      "text/html": [
       "<div>\n",
       "<style scoped>\n",
       "    .dataframe tbody tr th:only-of-type {\n",
       "        vertical-align: middle;\n",
       "    }\n",
       "\n",
       "    .dataframe tbody tr th {\n",
       "        vertical-align: top;\n",
       "    }\n",
       "\n",
       "    .dataframe thead th {\n",
       "        text-align: right;\n",
       "    }\n",
       "</style>\n",
       "<table border=\"1\" class=\"dataframe\">\n",
       "  <thead>\n",
       "    <tr style=\"text-align: right;\">\n",
       "      <th></th>\n",
       "      <th>0</th>\n",
       "      <th>1</th>\n",
       "    </tr>\n",
       "  </thead>\n",
       "  <tbody>\n",
       "    <tr>\n",
       "      <th>0</th>\n",
       "      <td>Q16348</td>\n",
       "      <td>DB00672</td>\n",
       "    </tr>\n",
       "    <tr>\n",
       "      <th>1</th>\n",
       "      <td>P13995</td>\n",
       "      <td>DB00116</td>\n",
       "    </tr>\n",
       "    <tr>\n",
       "      <th>2</th>\n",
       "      <td>P30872</td>\n",
       "      <td>DB06663</td>\n",
       "    </tr>\n",
       "    <tr>\n",
       "      <th>3</th>\n",
       "      <td>P30874</td>\n",
       "      <td>DB06663</td>\n",
       "    </tr>\n",
       "    <tr>\n",
       "      <th>4</th>\n",
       "      <td>O43526</td>\n",
       "      <td>DB00586</td>\n",
       "    </tr>\n",
       "    <tr>\n",
       "      <th>...</th>\n",
       "      <td>...</td>\n",
       "      <td>...</td>\n",
       "    </tr>\n",
       "    <tr>\n",
       "      <th>9876</th>\n",
       "      <td>O60488</td>\n",
       "      <td>DB00412</td>\n",
       "    </tr>\n",
       "    <tr>\n",
       "      <th>9877</th>\n",
       "      <td>P51843</td>\n",
       "      <td>DB00755</td>\n",
       "    </tr>\n",
       "    <tr>\n",
       "      <th>9878</th>\n",
       "      <td>Q16348</td>\n",
       "      <td>DB01140</td>\n",
       "    </tr>\n",
       "    <tr>\n",
       "      <th>9879</th>\n",
       "      <td>P50416</td>\n",
       "      <td>DB01016</td>\n",
       "    </tr>\n",
       "    <tr>\n",
       "      <th>9880</th>\n",
       "      <td>P45452</td>\n",
       "      <td>DB00786</td>\n",
       "    </tr>\n",
       "  </tbody>\n",
       "</table>\n",
       "<p>9881 rows × 2 columns</p>\n",
       "</div>"
      ],
      "text/plain": [
       "           0        1\n",
       "0     Q16348  DB00672\n",
       "1     P13995  DB00116\n",
       "2     P30872  DB06663\n",
       "3     P30874  DB06663\n",
       "4     O43526  DB00586\n",
       "...      ...      ...\n",
       "9876  O60488  DB00412\n",
       "9877  P51843  DB00755\n",
       "9878  Q16348  DB01140\n",
       "9879  P50416  DB01016\n",
       "9880  P45452  DB00786\n",
       "\n",
       "[9881 rows x 2 columns]"
      ]
     },
     "execution_count": 59,
     "metadata": {},
     "output_type": "execute_result"
    }
   ],
   "source": [
    "#pd.read_csv(\"convert_table\", delimiter=\"\\t\")\n",
    "df"
   ]
  },
  {
   "cell_type": "code",
   "execution_count": 7,
   "id": "70089d27-839c-4aaa-afac-a1a6a8c6d449",
   "metadata": {},
   "outputs": [
    {
     "name": "stdout",
     "output_type": "stream",
     "text": [
      "9881\n",
      "           0        1\n",
      "0     Q16348  DB00672\n",
      "1     P13995  DB00116\n",
      "300   Q16739  DB00419\n",
      "600   P21917  DB00714\n",
      "1000  P41145  DB00497\n"
     ]
    }
   ],
   "source": [
    "file_path = \"R_DrugBank.txt\"  # Specify the file path without the extension\n",
    "\n",
    "# Read the file as a CSV with custom parameters\n",
    "\n",
    "df = pd.read_csv(file_path, header=None, delimiter= \"\\t\")  # Assuming the file has no header row\n",
    "print(len(df))\n",
    "print(df.iloc[[0,1,300,600, 1000]])\n",
    "\n"
   ]
  },
  {
   "cell_type": "code",
   "execution_count": 72,
   "id": "990b54b4-1713-4528-a781-3f1143cd5271",
   "metadata": {},
   "outputs": [],
   "source": [
    "ids = []\n",
    "for i in df[0] :\n",
    "    ids.append(i)\n",
    "np.savetxt(\"pro_list.txt\", np.array(ids), fmt=\"%s\")"
   ]
  },
  {
   "cell_type": "code",
   "execution_count": 71,
   "id": "c7933d2c-54df-4715-9112-47530abf1e0e",
   "metadata": {},
   "outputs": [
    {
     "ename": "ModuleNotFoundError",
     "evalue": "No module named 'pyfaidx'",
     "output_type": "error",
     "traceback": [
      "\u001b[0;31m---------------------------------------------------------------------------\u001b[0m",
      "\u001b[0;31mModuleNotFoundError\u001b[0m                       Traceback (most recent call last)",
      "Cell \u001b[0;32mIn[71], line 1\u001b[0m\n\u001b[0;32m----> 1\u001b[0m \u001b[38;5;28;01mfrom\u001b[39;00m \u001b[38;5;21;01mpyfaidx\u001b[39;00m \u001b[38;5;28;01mimport\u001b[39;00m Fasta\n\u001b[1;32m      2\u001b[0m sequences \u001b[38;5;241m=\u001b[39m Fasta(\u001b[38;5;124m'\u001b[39m\u001b[38;5;124muniprot_sprot.fasta\u001b[39m\u001b[38;5;124m'\u001b[39m)\n",
      "\u001b[0;31mModuleNotFoundError\u001b[0m: No module named 'pyfaidx'"
     ]
    }
   ],
   "source": [
    "from pyfaidx import Fasta\n",
    "sequences = Fasta('uniprot_sprot.fasta')"
   ]
  },
  {
   "cell_type": "code",
   "execution_count": 47,
   "id": "a285c116-7993-40d1-a54e-5773eb6e87a2",
   "metadata": {},
   "outputs": [],
   "source": [
    "import requests\n",
    "\n",
    "# Set the base URL for the UniProt API\n",
    "base_url = \"https://www.uniprot.org/uniprot\"\n",
    "\n",
    "def get_seq(uni_id) :\n",
    "    # Set the UniProtID of the protein you want to query\n",
    "    uniprot_id = uni_id\n",
    "\n",
    "    # Set the headers with the desired response format\n",
    "    headers = {\"Accept\": \"text/plain\"}\n",
    "\n",
    "    # Make a GET request to the UniProt API to retrieve the protein sequence\n",
    "    response = requests.get(f\"{base_url}/{uniprot_id}.fasta\", headers=headers)\n",
    "\n",
    "\n",
    "    # Check if the request was successful\n",
    "    if response.status_code == 200:\n",
    "        # Get the protein sequence from the response\n",
    "        seq = \"\"\n",
    "        protein_sequence = \"\".join(response.text.split(\"\\n\")[1:])\n",
    "\n",
    "    else:\n",
    "        # Print an error message\n",
    "        protein_sequence = \"None\"\n",
    "        \n",
    "    return uni_id, protein_sequence\n",
    "\n",
    "pro_id_list = []\n",
    "seq_list = []\n",
    "\n",
    "for i in df[1].values[:4000] :\n",
    "    pro, seq = get_seq(i)\n",
    "    pro_id_list.append(pro)\n",
    "    seq_list.append(seq)\n"
   ]
  },
  {
   "cell_type": "code",
   "execution_count": 31,
   "id": "e5770ed6-6e6e-4611-8e89-cd6364f6c6a4",
   "metadata": {},
   "outputs": [
    {
     "name": "stdout",
     "output_type": "stream",
     "text": [
      "An error occurred: {\"error\":\"Token invalid\"}\n"
     ]
    }
   ],
   "source": [
    "import requests\n",
    "\n",
    "# Set the base URL for the DrugBank API\n",
    "base_url = \"https://api.drugbank.com/v2\"\n",
    "\n",
    "# Set the DrugBankID of the drug you want to query\n",
    "drugbank_id = \"DB00001\"\n",
    "\n",
    "# Set your DrugBank API key\n",
    "api_key = \"YOUR_API_KEY_HERE\"\n",
    "\n",
    "# Set the headers with the API key\n",
    "headers = {\"Authorization\": f\"Bearer {api_key}\"}\n",
    "\n",
    "# Make a GET request to the DrugBank API to retrieve the drug information\n",
    "response = requests.get(f\"{base_url}/us/drugs/{drugbank_id}\", headers=headers)\n",
    "\n",
    "# Check if the request was successful\n",
    "if response.status_code == 200:\n",
    "    # Get the drug information from the response\n",
    "    drug_info = response.json()\n",
    "\n",
    "    # Get the SMILES value from the drug information\n",
    "    smiles = drug_info[\"smiles\"]\n",
    "\n",
    "    # Print the SMILES value\n",
    "    print(f\"SMILES: {smiles}\")\n",
    "else:\n",
    "    # Print an error message\n",
    "    print(f\"An error occurred: {response.text}\")\n"
   ]
  },
  {
   "cell_type": "code",
   "execution_count": null,
   "id": "c947f004-015e-4eac-a444-32108c923902",
   "metadata": {},
   "outputs": [],
   "source": [
    "# Select unique rows based on the 'Drug' column\n",
    "unique_drugs_df = df.drop_duplicates(subset=['Drug'])\n",
    "\n",
    "unique_drugs_df = generating_drug_feature(unique_drugs_df)\n",
    "# Print the resulting DataFrame\n",
    "# print(len(unique_drugs_df))\n",
    "# print(unique_drugs_df)\n",
    "tmp = unique_drugs_df[['Drug_ID', 'Drug','Morgan_Features']]\n",
    "# print(tmp.head())\n",
    "\n",
    "drug_id_array = tmp['Drug_ID'].values\n",
    "drug_array = tmp['Drug'].values\n",
    "drug_feat = tmp['Morgan_Features']\n",
    "\n",
    "\n",
    "drug_feat = {'Drug_ID': drug_id_array, 'Drug': drug_array, 'Morgan_Features': drug_feat}\n",
    "\n",
    "print(len(drug_feat['Morgan_Features']))\n",
    "print(type(drug_feat['Morgan_Features']))\n",
    "\n",
    "\n",
    "import pickle\n",
    "\n",
    "\n",
    "with open(\"DAVIS_drug_feats.pkl\", 'wb') as f:\n",
    "    pickle.dump(drug_feat, f)\n",
    "\n",
    "print(f\"Dictionary saved as pickle file\")"
   ]
  }
 ],
 "metadata": {
  "kernelspec": {
   "display_name": "moon_env",
   "language": "python",
   "name": "tf_1"
  },
  "language_info": {
   "codemirror_mode": {
    "name": "ipython",
    "version": 3
   },
   "file_extension": ".py",
   "mimetype": "text/x-python",
   "name": "python",
   "nbconvert_exporter": "python",
   "pygments_lexer": "ipython3",
   "version": "3.8.15"
  }
 },
 "nbformat": 4,
 "nbformat_minor": 5
}
