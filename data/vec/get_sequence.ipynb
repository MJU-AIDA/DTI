{
 "cells": [
  {
   "cell_type": "code",
   "execution_count": 5,
   "id": "ffc5f258-5e92-4de1-a418-3e49cc9cc3dc",
   "metadata": {},
   "outputs": [
    {
     "name": "stderr",
     "output_type": "stream",
     "text": [
      "Exception ignored in: <function Faidx.__del__ at 0x7fda307a8310>\n",
      "Traceback (most recent call last):\n",
      "  File \"/home/max38744/.local/lib/python3.9/site-packages/pyfaidx/__init__.py\", line 889, in __del__\n",
      "    self.__exit__()\n",
      "  File \"/home/max38744/.local/lib/python3.9/site-packages/pyfaidx/__init__.py\", line 895, in __exit__\n",
      "    self.file.close()\n",
      "AttributeError: 'Faidx' object has no attribute 'file'\n",
      "Exception ignored in: <function Faidx.__del__ at 0x7fda307a8310>\n",
      "Traceback (most recent call last):\n",
      "  File \"/home/max38744/.local/lib/python3.9/site-packages/pyfaidx/__init__.py\", line 889, in __del__\n",
      "    self.__exit__()\n",
      "  File \"/home/max38744/.local/lib/python3.9/site-packages/pyfaidx/__init__.py\", line 895, in __exit__\n",
      "    self.file.close()\n",
      "AttributeError: 'Faidx' object has no attribute 'file'\n",
      "Exception ignored in: <function Faidx.__del__ at 0x7fda307a8310>\n",
      "Traceback (most recent call last):\n",
      "  File \"/home/max38744/.local/lib/python3.9/site-packages/pyfaidx/__init__.py\", line 889, in __del__\n",
      "    self.__exit__()\n",
      "  File \"/home/max38744/.local/lib/python3.9/site-packages/pyfaidx/__init__.py\", line 895, in __exit__\n",
      "    self.file.close()\n",
      "AttributeError: 'Faidx' object has no attribute 'file'\n"
     ]
    }
   ],
   "source": [
    "from pyfaidx import Fasta\n",
    "sequences = Fasta('uniprot_sprot_varsplic.fasta')"
   ]
  },
  {
   "cell_type": "code",
   "execution_count": 9,
   "id": "1edc7f58-7061-4691-be59-5cf9f378663c",
   "metadata": {},
   "outputs": [
    {
     "name": "stderr",
     "output_type": "stream",
     "text": [
      "Exception ignored in: <function Faidx.__del__ at 0x7fda307a8310>\n",
      "Traceback (most recent call last):\n",
      "  File \"/home/max38744/.local/lib/python3.9/site-packages/pyfaidx/__init__.py\", line 889, in __del__\n",
      "    self.__exit__()\n",
      "  File \"/home/max38744/.local/lib/python3.9/site-packages/pyfaidx/__init__.py\", line 895, in __exit__\n",
      "    self.file.close()\n",
      "AttributeError: 'Faidx' object has no attribute 'file'\n"
     ]
    },
    {
     "name": "stdout",
     "output_type": "stream",
     "text": [
      "((Avidin[Protein Name]) AND (\"Gallus gallus\"[Organism])) AND (srcdb_swiss-prot[Properties])\n"
     ]
    }
   ],
   "source": [
    "import biotite.database.entrez as entrez\n",
    "import biotite.sequence as seq\n",
    "import biotite.sequence.io.fasta as fasta\n",
    "# Find UIDs for SwissProt/UniProt entries\n",
    "query =   entrez.SimpleQuery(\"Avidin\", \"Protein Name\") \\\n",
    "         & entrez.SimpleQuery(\"Gallus gallus\", \"Organism\") \\\n",
    "         & entrez.SimpleQuery(\"srcdb_swiss-prot\", \"Properties\")\n",
    "print(query)"
   ]
  },
  {
   "cell_type": "code",
   "execution_count": 10,
   "id": "c3d8a1a0-41c9-4b1b-b2e5-ca08d0645725",
   "metadata": {},
   "outputs": [],
   "source": [
    "uids = entrez.search(query, db_name=\"protein\")"
   ]
  },
  {
   "cell_type": "code",
   "execution_count": 12,
   "id": "d91a18f6-01b0-4197-b8dd-e0c3bbfc4731",
   "metadata": {},
   "outputs": [],
   "source": [
    "file_name = entrez.fetch_single_file(uids, \"avidin.fa\", db_name=\"protein\", ret_type=\"fasta\")"
   ]
  },
  {
   "cell_type": "code",
   "execution_count": 17,
   "id": "28631890-c13c-429c-8edb-94e85a1c8e27",
   "metadata": {},
   "outputs": [
    {
     "name": "stdout",
     "output_type": "stream",
     "text": [
      ">sp|P02701.3|AVID_CHICK RecName: Full=Avidin; Flags: Precursor\n",
      "MVHATSPLLLLLLLSLALVAPGLSARKCSLTGKWTNDLGSNMTIGAVNSRGEFTGTYITAVTATSNEIKE\n",
      "SPLHGTQNTINKRTQPTFGFTVNWKFSESTTVFTGQCFIDRNGKEVLKTMWLLRSSVNDIGDDWKATRVG\n",
      "INIFTRLRTQKE\n"
     ]
    }
   ],
   "source": [
    "fasta_file = fasta.FastaFile()\n",
    "fasta_file.read(file_name)\n",
    "print(fasta_file)"
   ]
  },
  {
   "cell_type": "code",
   "execution_count": 74,
   "id": "17b5d3b1-c3f9-498b-bd0c-490869038d03",
   "metadata": {},
   "outputs": [],
   "source": [
    "from SPARQLWrapper import SPARQLWrapper, JSON\n",
    "\n",
    "def get_seq(uniprot_ids) :\n",
    "    values = ' '.join(f'<http://purl.uniprot.org/uniprot/{uniprot_id}>' for uniprot_id in uniprot_ids)\n",
    "\n",
    "    sparql = SPARQLWrapper(\"https://sparql.uniprot.org/sparql\")\n",
    "    query = f\"\"\"\n",
    "        PREFIX up:<http://purl.uniprot.org/core/>\n",
    "        SELECT ?protein ?isoform ?aa_sequence\n",
    "        WHERE {{\n",
    "            VALUES ?protein {{ {values} }}\n",
    "            ?protein a up:Protein .\n",
    "            ?protein up:sequence ?isoform .\n",
    "            ?isoform rdf:value ?aa_sequence .\n",
    "        }}\n",
    "    \"\"\"\n",
    "    sparql.setQuery(query)\n",
    "    sparql.setReturnFormat(JSON)\n",
    "    results = sparql.query().convert()\n",
    "    pro_list = []\n",
    "    seq_list = []\n",
    "    for result in results[\"results\"][\"bindings\"]:\n",
    "        pro_list.append(result[\"protein\"][\"value\"].split(\"/\")[-1])\n",
    "        seq_list.append(result[\"aa_sequence\"][\"value\"])\n",
    "    return pro_list, seq_list\n"
   ]
  },
  {
   "cell_type": "code",
   "execution_count": 75,
   "id": "7be97d81-748a-4143-ad7f-bf51c5e004a0",
   "metadata": {},
   "outputs": [],
   "source": [
    "from rdflib import *\n",
    "from SPARQLWrapper import SPARQLWrapper, JSON"
   ]
  },
  {
   "cell_type": "code",
   "execution_count": 78,
   "id": "9df808f3-119e-4dbe-9a62-79073f065475",
   "metadata": {},
   "outputs": [],
   "source": [
    "import pandas as pd\n",
    "import time\n",
    "from urllib.error import HTTPError\n",
    "full_protein = np.array(pd.read_csv(\"pro_list.txt\", header = None)[0])\n",
    "\n",
    "\n",
    "protein_ids = []\n",
    "sequence = []\n",
    "for i in range(0, len(full_protein), 99):\n",
    "    while True:\n",
    "        try:\n",
    "            pro_iter, seq_iter = get_seq(full_protein[i:i+99])\n",
    "            protein_ids.extend(pro_iter)\n",
    "            sequence.extend(seq_iter)\n",
    "            break\n",
    "        except HTTPError as e:\n",
    "            if e.code == 503:\n",
    "                time.sleep(2) # 1초 동안 대기\n",
    "            else:\n",
    "                raise e\n",
    "\n"
   ]
  },
  {
   "cell_type": "code",
   "execution_count": 111,
   "id": "fae5b7a6-a27a-494e-ae89-b941de7c16d4",
   "metadata": {},
   "outputs": [],
   "source": [
    "df = pd.DataFrame({\"ids\" : protein_ids, \"seq\" : sequence})"
   ]
  },
  {
   "cell_type": "code",
   "execution_count": 104,
   "id": "8bc62aba-973b-414a-bac1-25225cd76f39",
   "metadata": {},
   "outputs": [],
   "source": [
    "df.drop_duplicates(subset=['ids']).sort_index().to_csv(\"proteins.csv\")\n"
   ]
  },
  {
   "cell_type": "code",
   "execution_count": 126,
   "id": "545606e3-4397-4202-b8d1-61193e17395d",
   "metadata": {},
   "outputs": [
    {
     "data": {
      "text/plain": [
       "'MDPLNLSWYDDDLERQNWSRPFNGSDGKADRPHYNYYATLLTLLIAVIVFGNVLVCMAVSREKALQTTTNYLIVSLAVADLLVATLVMPWVVYLEVVGEWKFSRIHCDIFVTLDVMMCTASILNLCAISIDRYTAVAMPMLYNTRYSSKRRVTVMISIVWVLSFTISCPLLFGLNNADQNECIIANPAFVVYSSIVSFYVPFIVTLLVYIKIYIVLRRRRKRVNTKRSSRAFRAHLRAPLKEAARRAQELEMEMLSSTSPPERTRYSPIPPSHHQLTLPDPSHHGLHSTPDSPAKPEKNGHAKDHPKIAKIFEIQTMPNGKTRTSLKTMSRRKLSQQKEKKATQMLAIVLGVFIICWLPFFITHILNIHCDCNIPPVLYSAFTWLGYVNSAVNPIIYTTFNIEFRKAFLKILHC'"
      ]
     },
     "execution_count": 126,
     "metadata": {},
     "output_type": "execute_result"
    }
   ],
   "source": [
    "df[df['ids'] == \"P14416\"].drop_duplicates(subset=[\"seq\"]).loc[1].seq"
   ]
  },
  {
   "cell_type": "code",
   "execution_count": 125,
   "id": "0bd77c35-6b47-44d9-921c-fcf2f8b701fb",
   "metadata": {},
   "outputs": [
    {
     "data": {
      "text/plain": [
       "'MDPLNLSWYDDDLERQNWSRPFNGSDGKADRPHYNYYATLLTLLIAVIVFGNVLVCMAVSREKALQTTTNYLIVSLAVADLLVATLVMPWVVYLEVVGEWKFSRIHCDIFVTLDVMMCTASILNLCAISIDRYTAVAMPMLYNTRYSSKRRVTVMISIVWVLSFTISCPLLFGLNNADQNECIIANPAFVVYSSIVSFYVPFIVTLLVYIKIYIVLRRRRKRVNTKRSSRAFRAHLRAPLKGNCTHPEDMKLCTVIMKSNGSFPVNRRRVVQEAARRAQELEMEMLSSTSPPERTRYSPIPPSHHQLTLPDPSHHGLHSTPDSPAKPEKNGHAKDHPKIAKIFEIQTMPNGKTRTSLKTMSRRKLSQQKEKKATQMLAIVLGVFIICWLPFFITHILNIHCDCNIPPVLYSAFTWLGYVNSAVNPIIYTTFNIEFRKAFLKILHC'"
      ]
     },
     "execution_count": 125,
     "metadata": {},
     "output_type": "execute_result"
    }
   ],
   "source": [
    "df[df['ids'] == \"P14416\"].drop_duplicates(subset=[\"seq\"]).loc[8].seq"
   ]
  },
  {
   "cell_type": "code",
   "execution_count": 116,
   "id": "79592627-4064-4da5-9493-8ed0344fdc99",
   "metadata": {},
   "outputs": [
    {
     "data": {
      "text/html": [
       "<div>\n",
       "<style scoped>\n",
       "    .dataframe tbody tr th:only-of-type {\n",
       "        vertical-align: middle;\n",
       "    }\n",
       "\n",
       "    .dataframe tbody tr th {\n",
       "        vertical-align: top;\n",
       "    }\n",
       "\n",
       "    .dataframe thead th {\n",
       "        text-align: right;\n",
       "    }\n",
       "</style>\n",
       "<table border=\"1\" class=\"dataframe\">\n",
       "  <thead>\n",
       "    <tr style=\"text-align: right;\">\n",
       "      <th></th>\n",
       "      <th>ids</th>\n",
       "      <th>seq</th>\n",
       "    </tr>\n",
       "  </thead>\n",
       "  <tbody>\n",
       "    <tr>\n",
       "      <th>0</th>\n",
       "      <td>P28335</td>\n",
       "      <td>MVNLRNAVHSFLVHLIGLLVWQSDISVSPVAAIVTDIFNTSDGGRF...</td>\n",
       "    </tr>\n",
       "    <tr>\n",
       "      <th>1</th>\n",
       "      <td>P14416</td>\n",
       "      <td>MDPLNLSWYDDDLERQNWSRPFNGSDGKADRPHYNYYATLLTLLIA...</td>\n",
       "    </tr>\n",
       "    <tr>\n",
       "      <th>3</th>\n",
       "      <td>P24462</td>\n",
       "      <td>MDLIPNLAVETWLLLAVSLILLYLYGTRTHGLFKKLGIPGPTPLPF...</td>\n",
       "    </tr>\n",
       "    <tr>\n",
       "      <th>4</th>\n",
       "      <td>P10632</td>\n",
       "      <td>MEPFVVLVLCLSFMLLFSLWRQSCRRRKLPPGPTPLPIIGNMLQID...</td>\n",
       "    </tr>\n",
       "    <tr>\n",
       "      <th>5</th>\n",
       "      <td>P22748</td>\n",
       "      <td>MRMLLALLALSAARPSASAESHWCYEVQAESSNYPCLVPVKWGGNC...</td>\n",
       "    </tr>\n",
       "    <tr>\n",
       "      <th>...</th>\n",
       "      <td>...</td>\n",
       "      <td>...</td>\n",
       "    </tr>\n",
       "    <tr>\n",
       "      <th>23491</th>\n",
       "      <td>P10398</td>\n",
       "      <td>MEPPRGPPANGAEPSRAVGTVKVYLPNKQRTVVTVRDGMSVYDSLD...</td>\n",
       "    </tr>\n",
       "    <tr>\n",
       "      <th>23513</th>\n",
       "      <td>P10398</td>\n",
       "      <td>MEPPRGPPANGAEPSRAVGTVKVYLPNKQRTVVTVRDGMSVYDSLD...</td>\n",
       "    </tr>\n",
       "    <tr>\n",
       "      <th>23542</th>\n",
       "      <td>P45452</td>\n",
       "      <td>MHPGVLAAFLFLSWTHCRALPLPSGGDEDDLSEEDLQFAERYLRSY...</td>\n",
       "    </tr>\n",
       "    <tr>\n",
       "      <th>23550</th>\n",
       "      <td>Q96R05</td>\n",
       "      <td>MPADLSGTWTLLSSDNFEGYMLALGIDFATRKIAKLLKPQKVIEQN...</td>\n",
       "    </tr>\n",
       "    <tr>\n",
       "      <th>23557</th>\n",
       "      <td>P12271</td>\n",
       "      <td>MSEGVGTFRMVPEEEQELRAQLEQLTTKDHGPVFGPCSQLPRHTLQ...</td>\n",
       "    </tr>\n",
       "  </tbody>\n",
       "</table>\n",
       "<p>3309 rows × 2 columns</p>\n",
       "</div>"
      ],
      "text/plain": [
       "          ids                                                seq\n",
       "0      P28335  MVNLRNAVHSFLVHLIGLLVWQSDISVSPVAAIVTDIFNTSDGGRF...\n",
       "1      P14416  MDPLNLSWYDDDLERQNWSRPFNGSDGKADRPHYNYYATLLTLLIA...\n",
       "3      P24462  MDLIPNLAVETWLLLAVSLILLYLYGTRTHGLFKKLGIPGPTPLPF...\n",
       "4      P10632  MEPFVVLVLCLSFMLLFSLWRQSCRRRKLPPGPTPLPIIGNMLQID...\n",
       "5      P22748  MRMLLALLALSAARPSASAESHWCYEVQAESSNYPCLVPVKWGGNC...\n",
       "...       ...                                                ...\n",
       "23491  P10398  MEPPRGPPANGAEPSRAVGTVKVYLPNKQRTVVTVRDGMSVYDSLD...\n",
       "23513  P10398  MEPPRGPPANGAEPSRAVGTVKVYLPNKQRTVVTVRDGMSVYDSLD...\n",
       "23542  P45452  MHPGVLAAFLFLSWTHCRALPLPSGGDEDDLSEEDLQFAERYLRSY...\n",
       "23550  Q96R05  MPADLSGTWTLLSSDNFEGYMLALGIDFATRKIAKLLKPQKVIEQN...\n",
       "23557  P12271  MSEGVGTFRMVPEEEQELRAQLEQLTTKDHGPVFGPCSQLPRHTLQ...\n",
       "\n",
       "[3309 rows x 2 columns]"
      ]
     },
     "execution_count": 116,
     "metadata": {},
     "output_type": "execute_result"
    }
   ],
   "source": [
    "df.drop_duplicates(subset=['seq'])"
   ]
  },
  {
   "cell_type": "code",
   "execution_count": null,
   "id": "8e853c8b-7b04-4863-b217-20e7201b6621",
   "metadata": {},
   "outputs": [],
   "source": []
  }
 ],
 "metadata": {
  "kernelspec": {
   "display_name": "Python 3 (ipykernel)",
   "language": "python",
   "name": "python3"
  },
  "language_info": {
   "codemirror_mode": {
    "name": "ipython",
    "version": 3
   },
   "file_extension": ".py",
   "mimetype": "text/x-python",
   "name": "python",
   "nbconvert_exporter": "python",
   "pygments_lexer": "ipython3",
   "version": "3.9.12"
  }
 },
 "nbformat": 4,
 "nbformat_minor": 5
}
