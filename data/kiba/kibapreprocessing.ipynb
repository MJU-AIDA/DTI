{
 "cells": [
  {
   "attachments": {},
   "cell_type": "markdown",
   "metadata": {},
   "source": [
    "## KIBA download"
   ]
  },
  {
   "cell_type": "code",
   "execution_count": 47,
   "metadata": {},
   "outputs": [],
   "source": [
    "# from tdc.multi_pred import DTI\n",
    "# data = DTI(name = 'KIBA')\n",
    "# split = data.get_split()"
   ]
  },
  {
   "cell_type": "code",
   "execution_count": 48,
   "metadata": {},
   "outputs": [],
   "source": [
    "# # pickle 파일로 저장\n",
    "# print(type(split))\n",
    "# print(split.keys())\n",
    "\n",
    "# import pickle\n",
    "\n",
    "# with open(\"kiba.pkl\", \"wb\") as file:\n",
    "#     pickle.dump(split, file)"
   ]
  },
  {
   "attachments": {},
   "cell_type": "markdown",
   "metadata": {},
   "source": [
    "## Load KIBA"
   ]
  },
  {
   "cell_type": "code",
   "execution_count": 49,
   "metadata": {},
   "outputs": [
    {
     "data": {
      "image/png": "[encoded data removed]",
      "text/plain": [
       "<Figure size 640x480 with 1 Axes>"
      ]
     },
     "metadata": {},
     "output_type": "display_data"
    }
   ],
   "source": [
    "import pickle\n",
    "\n",
    "file_path = 'kiba.pkl'\n",
    "\n",
    "with open(file_path, 'rb') as file:\n",
    "    split = pickle.load(file)\n",
    "\n",
    "\n",
    "train = split['train']\n",
    "val = split['valid']\n",
    "test = split['test']\n",
    "\n",
    "import matplotlib.pyplot as plt\n",
    "\n",
    "train['Y'].hist(bins=18)\n",
    "plt.xlabel(\"Y : KIBA value\")\n",
    "plt.ylabel('Frequency')\n",
    "plt.title('Histogram of {}'.format(\"Y\"))\n",
    "plt.show()\n"
   ]
  },
  {
   "cell_type": "code",
   "execution_count": 50,
   "metadata": {},
   "outputs": [
    {
     "name": "stdout",
     "output_type": "stream",
     "text": [
      "0    66482\n",
      "1    15878\n",
      "Name: Class, dtype: int64\n",
      "Index(['Drug_ID', 'Drug', 'Target_ID', 'Target', 'Y', 'Class'], dtype='object')\n"
     ]
    },
    {
     "data": {
      "text/plain": [
       "count    82360.000000\n",
       "mean        11.723211\n",
       "std          0.834467\n",
       "min          1.100000\n",
       "25%         11.200000\n",
       "50%         11.581486\n",
       "75%         11.953872\n",
       "max         17.200179\n",
       "Name: Y, dtype: float64"
      ]
     },
     "execution_count": 50,
     "metadata": {},
     "output_type": "execute_result"
    }
   ],
   "source": [
    "threshold = 12.1\n",
    "train['Class'] = train['Y'].apply(lambda x: 1 if x > threshold else 0)\n",
    "print(train['Class'].value_counts())\n",
    "print(train.columns)\n",
    "train['Y'].describe()"
   ]
  },
  {
   "cell_type": "code",
   "execution_count": 51,
   "metadata": {},
   "outputs": [
    {
     "name": "stdout",
     "output_type": "stream",
     "text": [
      "0    9545\n",
      "1    2221\n",
      "Name: Class, dtype: int64\n"
     ]
    }
   ],
   "source": [
    "\n",
    "val['Class'] = val['Y'].apply(lambda x: 1 if x > threshold else 0)\n",
    "print(val['Class'].value_counts())"
   ]
  },
  {
   "cell_type": "code",
   "execution_count": 52,
   "metadata": {},
   "outputs": [
    {
     "name": "stdout",
     "output_type": "stream",
     "text": [
      "0    19064\n",
      "1     4467\n",
      "Name: Class, dtype: int64\n"
     ]
    }
   ],
   "source": [
    "\n",
    "test['Class'] = test['Y'].apply(lambda x: 1 if x > threshold else 0)\n",
    "print(test['Class'].value_counts())"
   ]
  },
  {
   "cell_type": "code",
   "execution_count": 53,
   "metadata": {},
   "outputs": [
    {
     "name": "stdout",
     "output_type": "stream",
     "text": [
      "              Drug_ID                                               Drug  \\\n",
      "0       CHEMBL1087421            COc1cc2c(cc1Cl)C(c1ccc(Cl)c(Cl)c1)=NCC2   \n",
      "1       CHEMBL1087421            COc1cc2c(cc1Cl)C(c1ccc(Cl)c(Cl)c1)=NCC2   \n",
      "2       CHEMBL1087421            COc1cc2c(cc1Cl)C(c1ccc(Cl)c(Cl)c1)=NCC2   \n",
      "3       CHEMBL1087421            COc1cc2c(cc1Cl)C(c1ccc(Cl)c(Cl)c1)=NCC2   \n",
      "4       CHEMBL1087421            COc1cc2c(cc1Cl)C(c1ccc(Cl)c(Cl)c1)=NCC2   \n",
      "...               ...                                                ...   \n",
      "117652  CHEMBL1993661  CNS(=O)(=O)c1ccccc1Nc1nc(Nc2cc(OC)c(OC)c(OC)c2...   \n",
      "117653   CHEMBL497151         O=c1nc(-c2cc3c(Oc4ccc(I)cc4)cncc3s2)[nH]o1   \n",
      "117654  CHEMBL1976376    Nc1ncnc2c1c(-c1ccc(Oc3ccc(CO)cc3)cc1)cn2C1CCOC1   \n",
      "117655   CHEMBL234085           CC1CCN(C(=O)CC#N)CC1N(C)c1ncnc2[nH]ccc12   \n",
      "117656  CHEMBL1984686                        Brc1ccc2cnc(Nc3ccncn3)cc2c1   \n",
      "\n",
      "       Target_ID                                             Target  \\\n",
      "0         O14920  MSWSPSLTTQTCGAWEMKERLGTGGFGNVIRWHNQETGEQIAIKQC...   \n",
      "1         P04626  MELAALCRWGLLLALLPPGAASTQVCTGTDMKLRLPASPETHLDML...   \n",
      "2         P06239  MGCGCSSHPEDDWMENIDVCENCHYPIVPLDGKGTLLIRNGSEVRD...   \n",
      "3         P15056  MAALSGGGGGGAEPGQALFNGDMEPEAGAGAGAAASSAADPAIPEE...   \n",
      "4         P24941  MENFQKVEKIGEGTYGVVYKARNKLTGEVVALKKIRLDTETEGVPS...   \n",
      "...          ...                                                ...   \n",
      "117652    P07949  MAKATSGAAGLRLLLLLLLPLLGKVALGLYFSRDAYWEKLYVDQAA...   \n",
      "117653    P51451  MGLVSSKKPDKEKPIKEKDKGQWSPLKVSAQDKDAPPLPPLVVFNH...   \n",
      "117654    Q04759  MSPFLRIGLSNFDCGSCQSCQGEAVNPYCAVLVKEYVESENGQMYI...   \n",
      "117655    Q9UM73  MGAIGLLWLLPLLLSTAAVGSGMGTGQRAGSPAAGPPLQPREPLSY...   \n",
      "117656    P06241  MGCVQCKDKEATKLTEERDGSLNQSSGYRYGTDPTPQHYPSFGVTS...   \n",
      "\n",
      "                Y  Class  \n",
      "0       11.100000      0  \n",
      "1       11.100000      0  \n",
      "2       11.100000      0  \n",
      "3       11.100000      0  \n",
      "4       11.100000      0  \n",
      "...           ...    ...  \n",
      "117652  14.500117      1  \n",
      "117653  11.900001      0  \n",
      "117654  11.699999      0  \n",
      "117655  11.300000      0  \n",
      "117656  11.300000      0  \n",
      "\n",
      "[117657 rows x 6 columns]\n",
      "0    95091\n",
      "1    22566\n",
      "Name: Class, dtype: int64\n"
     ]
    }
   ],
   "source": [
    "import pandas as pd\n",
    "\n",
    "combined_df = pd.concat([train, val, test])\n",
    "\n",
    "kiba = combined_df.reset_index(drop=True)\n",
    "\n",
    "print(kiba)\n",
    "print(kiba['Class'].value_counts())"
   ]
  },
  {
   "attachments": {},
   "cell_type": "markdown",
   "metadata": {},
   "source": [
    "## convert chembl to pubchem"
   ]
  },
  {
   "cell_type": "code",
   "execution_count": 54,
   "metadata": {},
   "outputs": [],
   "source": [
    "### pubchem input에 넣을 파일\n",
    "import numpy as np\n",
    "\n",
    "with open(\"kiba_chembl\", 'w') as file:\n",
    "    for id in kiba['Drug_ID']:\n",
    "        file.write(id + '\\n')"
   ]
  },
  {
   "cell_type": "code",
   "execution_count": 55,
   "metadata": {},
   "outputs": [
    {
     "name": "stdout",
     "output_type": "stream",
     "text": [
      "                  0   1\n",
      "78652  CHEMBL269557 NaN\n",
      "78827  CHEMBL295132 NaN\n",
      "79617  CHEMBL384283 NaN\n",
      "79690  CHEMBL409397 NaN\n",
      "79728  CHEMBL413375 NaN\n",
      "79932   CHEMBL44137 NaN\n",
      "79993   CHEMBL47243 NaN\n",
      "                  0   1\n",
      "78652  CHEMBL269557 NaN\n",
      "79617  CHEMBL384283 NaN\n",
      "79690  CHEMBL409397 NaN\n",
      "79728  CHEMBL413375 NaN\n"
     ]
    }
   ],
   "source": [
    "import pandas as pd\n",
    "\n",
    "## 변환 과정에서 유실된 ID들을 확인\n",
    "\n",
    "data = pd.read_csv(\"kiba_chembl2pubchem.txt\", sep='\\t', header=None)\n",
    "# print(data)\n",
    "print(data[:][data[1].isna()].drop_duplicates())\n",
    "# data[1] = data[1].apply(lambda x: int(x))\n",
    "# print(data)\n",
    "\n",
    "# with open(\"kiba_drug_ctable.txt\") as f:\n",
    "#     data = f.read()\n",
    "\n",
    "# print(type(data))\n",
    "# print(data)\n",
    "\n",
    "### pubChem에서 조회가 되는 CHEMBL ID들은 직접 변환\n",
    "data.loc[data[0] == \"CHEMBL295132\", 1] = 468758\n",
    "data.loc[data[0] == \"CHEMBL44137\", 1] = 468759\n",
    "data.loc[data[0] == \"CHEMBL47243\", 1] = 24203043\n",
    "\n",
    "print(data[:][data[1].isna()].drop_duplicates())\n",
    "# print(data[:][data[1].isna()])"
   ]
  },
  {
   "cell_type": "code",
   "execution_count": 56,
   "metadata": {},
   "outputs": [
    {
     "name": "stdout",
     "output_type": "stream",
     "text": [
      "                    0            1\n",
      "0       CHEMBL1087421   44138048.0\n",
      "1       CHEMBL1087421   44138048.0\n",
      "2       CHEMBL1087421   44138048.0\n",
      "3       CHEMBL1087421   44138048.0\n",
      "4       CHEMBL1087421   44138048.0\n",
      "...               ...          ...\n",
      "117652  CHEMBL1993661   49830508.0\n",
      "117653   CHEMBL497151  136027078.0\n",
      "117654  CHEMBL1976376   49830756.0\n",
      "117655   CHEMBL234085    9818231.0\n",
      "117656  CHEMBL1984686   49831052.0\n",
      "\n",
      "[117657 rows x 2 columns]\n",
      "                    0          1\n",
      "0       CHEMBL1087421   44138048\n",
      "1       CHEMBL1087421   44138048\n",
      "2       CHEMBL1087421   44138048\n",
      "3       CHEMBL1087421   44138048\n",
      "4       CHEMBL1087421   44138048\n",
      "...               ...        ...\n",
      "117652  CHEMBL1993661   49830508\n",
      "117653   CHEMBL497151  136027078\n",
      "117654  CHEMBL1976376   49830756\n",
      "117655   CHEMBL234085    9818231\n",
      "117656  CHEMBL1984686   49831052\n",
      "\n",
      "[117657 rows x 2 columns]\n"
     ]
    }
   ],
   "source": [
    "print(data)\n",
    "data[1] = data[1].astype(float).astype(pd.Int64Dtype(), errors='ignore')\n",
    "print(data)\n",
    "data.to_csv(\"kiba_chembl2pubchem\", index=False)"
   ]
  },
  {
   "cell_type": "code",
   "execution_count": 57,
   "metadata": {},
   "outputs": [
    {
     "name": "stdout",
     "output_type": "stream",
     "text": [
      "44\n"
     ]
    }
   ],
   "source": [
    "## attach PuhChemID to kiba\n",
    "kiba['d_ID'] = data[1]\n",
    "print(kiba['d_ID'].isna().sum())"
   ]
  },
  {
   "attachments": {},
   "cell_type": "markdown",
   "metadata": {},
   "source": [
    "### chembl2pubchem 과정에서 변환되지 않는 결측치 44개 제거"
   ]
  },
  {
   "cell_type": "code",
   "execution_count": 58,
   "metadata": {},
   "outputs": [
    {
     "name": "stdout",
     "output_type": "stream",
     "text": [
      "              Drug_ID                                               Drug  \\\n",
      "0       CHEMBL1087421            COc1cc2c(cc1Cl)C(c1ccc(Cl)c(Cl)c1)=NCC2   \n",
      "1       CHEMBL1087421            COc1cc2c(cc1Cl)C(c1ccc(Cl)c(Cl)c1)=NCC2   \n",
      "2       CHEMBL1087421            COc1cc2c(cc1Cl)C(c1ccc(Cl)c(Cl)c1)=NCC2   \n",
      "3       CHEMBL1087421            COc1cc2c(cc1Cl)C(c1ccc(Cl)c(Cl)c1)=NCC2   \n",
      "4       CHEMBL1087421            COc1cc2c(cc1Cl)C(c1ccc(Cl)c(Cl)c1)=NCC2   \n",
      "...               ...                                                ...   \n",
      "117652  CHEMBL1993661  CNS(=O)(=O)c1ccccc1Nc1nc(Nc2cc(OC)c(OC)c(OC)c2...   \n",
      "117653   CHEMBL497151         O=c1nc(-c2cc3c(Oc4ccc(I)cc4)cncc3s2)[nH]o1   \n",
      "117654  CHEMBL1976376    Nc1ncnc2c1c(-c1ccc(Oc3ccc(CO)cc3)cc1)cn2C1CCOC1   \n",
      "117655   CHEMBL234085           CC1CCN(C(=O)CC#N)CC1N(C)c1ncnc2[nH]ccc12   \n",
      "117656  CHEMBL1984686                        Brc1ccc2cnc(Nc3ccncn3)cc2c1   \n",
      "\n",
      "       Target_ID                                             Target  \\\n",
      "0         O14920  MSWSPSLTTQTCGAWEMKERLGTGGFGNVIRWHNQETGEQIAIKQC...   \n",
      "1         P04626  MELAALCRWGLLLALLPPGAASTQVCTGTDMKLRLPASPETHLDML...   \n",
      "2         P06239  MGCGCSSHPEDDWMENIDVCENCHYPIVPLDGKGTLLIRNGSEVRD...   \n",
      "3         P15056  MAALSGGGGGGAEPGQALFNGDMEPEAGAGAGAAASSAADPAIPEE...   \n",
      "4         P24941  MENFQKVEKIGEGTYGVVYKARNKLTGEVVALKKIRLDTETEGVPS...   \n",
      "...          ...                                                ...   \n",
      "117652    P07949  MAKATSGAAGLRLLLLLLLPLLGKVALGLYFSRDAYWEKLYVDQAA...   \n",
      "117653    P51451  MGLVSSKKPDKEKPIKEKDKGQWSPLKVSAQDKDAPPLPPLVVFNH...   \n",
      "117654    Q04759  MSPFLRIGLSNFDCGSCQSCQGEAVNPYCAVLVKEYVESENGQMYI...   \n",
      "117655    Q9UM73  MGAIGLLWLLPLLLSTAAVGSGMGTGQRAGSPAAGPPLQPREPLSY...   \n",
      "117656    P06241  MGCVQCKDKEATKLTEERDGSLNQSSGYRYGTDPTPQHYPSFGVTS...   \n",
      "\n",
      "                Y  Class       d_ID  \n",
      "0       11.100000      0   44138048  \n",
      "1       11.100000      0   44138048  \n",
      "2       11.100000      0   44138048  \n",
      "3       11.100000      0   44138048  \n",
      "4       11.100000      0   44138048  \n",
      "...           ...    ...        ...  \n",
      "117652  14.500117      1   49830508  \n",
      "117653  11.900001      0  136027078  \n",
      "117654  11.699999      0   49830756  \n",
      "117655  11.300000      0    9818231  \n",
      "117656  11.300000      0   49831052  \n",
      "\n",
      "[117613 rows x 7 columns]\n",
      "117613\n"
     ]
    }
   ],
   "source": [
    "import numpy as np\n",
    "exclude = np.array(data[0][data[1].isna()].drop_duplicates())\n",
    "\n",
    "kiba = kiba[~kiba['Drug_ID'].isin(exclude)]\n",
    "print(kiba)\n",
    "print(len(kiba))"
   ]
  },
  {
   "cell_type": "code",
   "execution_count": 59,
   "metadata": {},
   "outputs": [],
   "source": [
    "kiba.to_csv(\"kiba\")\n"
   ]
  },
  {
   "attachments": {},
   "cell_type": "markdown",
   "metadata": {},
   "source": [
    "## Convert protein to gene"
   ]
  },
  {
   "cell_type": "code",
   "execution_count": 60,
   "metadata": {},
   "outputs": [
    {
     "name": "stdout",
     "output_type": "stream",
     "text": [
      "         Drug_ID                                     Drug Target_ID  \\\n",
      "0  CHEMBL1087421  COc1cc2c(cc1Cl)C(c1ccc(Cl)c(Cl)c1)=NCC2    O14920   \n",
      "1  CHEMBL1087421  COc1cc2c(cc1Cl)C(c1ccc(Cl)c(Cl)c1)=NCC2    P04626   \n",
      "\n",
      "                                              Target     Y  Class      d_ID  \n",
      "0  MSWSPSLTTQTCGAWEMKERLGTGGFGNVIRWHNQETGEQIAIKQC...  11.1      0  44138048  \n",
      "1  MELAALCRWGLLLALLPPGAASTQVCTGTDMKLRLPASPETHLDML...  11.1      0  44138048  \n",
      "  UniProtKB Gene Name ID Gene name NCBI gene (formerly Entrezgene) ID\n",
      "0             A0A023T6R1    MAGOHB                        Gene::55110\n",
      "1             A0A023T787     RBM8A                         Gene::9939\n"
     ]
    }
   ],
   "source": [
    "protein2gene = pd.read_csv(\"convert_table\", delimiter=\"\\t\")\n",
    "print(kiba.head(2))\n",
    "print(protein2gene.head(2))"
   ]
  },
  {
   "cell_type": "code",
   "execution_count": 61,
   "metadata": {},
   "outputs": [
    {
     "name": "stdout",
     "output_type": "stream",
     "text": [
      "              Drug_ID                                               Drug  \\\n",
      "0       CHEMBL1087421            COc1cc2c(cc1Cl)C(c1ccc(Cl)c(Cl)c1)=NCC2   \n",
      "1       CHEMBL1087421            COc1cc2c(cc1Cl)C(c1ccc(Cl)c(Cl)c1)=NCC2   \n",
      "2       CHEMBL1087421            COc1cc2c(cc1Cl)C(c1ccc(Cl)c(Cl)c1)=NCC2   \n",
      "3       CHEMBL1087421            COc1cc2c(cc1Cl)C(c1ccc(Cl)c(Cl)c1)=NCC2   \n",
      "4       CHEMBL1087421            COc1cc2c(cc1Cl)C(c1ccc(Cl)c(Cl)c1)=NCC2   \n",
      "...               ...                                                ...   \n",
      "117608  CHEMBL1993661  CNS(=O)(=O)c1ccccc1Nc1nc(Nc2cc(OC)c(OC)c(OC)c2...   \n",
      "117609   CHEMBL497151         O=c1nc(-c2cc3c(Oc4ccc(I)cc4)cncc3s2)[nH]o1   \n",
      "117610  CHEMBL1976376    Nc1ncnc2c1c(-c1ccc(Oc3ccc(CO)cc3)cc1)cn2C1CCOC1   \n",
      "117611   CHEMBL234085           CC1CCN(C(=O)CC#N)CC1N(C)c1ncnc2[nH]ccc12   \n",
      "117612  CHEMBL1984686                        Brc1ccc2cnc(Nc3ccncn3)cc2c1   \n",
      "\n",
      "       Target_ID                                             Target  \\\n",
      "0         O14920  MSWSPSLTTQTCGAWEMKERLGTGGFGNVIRWHNQETGEQIAIKQC...   \n",
      "1         P04626  MELAALCRWGLLLALLPPGAASTQVCTGTDMKLRLPASPETHLDML...   \n",
      "2         P06239  MGCGCSSHPEDDWMENIDVCENCHYPIVPLDGKGTLLIRNGSEVRD...   \n",
      "3         P15056  MAALSGGGGGGAEPGQALFNGDMEPEAGAGAGAAASSAADPAIPEE...   \n",
      "4         P24941  MENFQKVEKIGEGTYGVVYKARNKLTGEVVALKKIRLDTETEGVPS...   \n",
      "...          ...                                                ...   \n",
      "117608    P07949  MAKATSGAAGLRLLLLLLLPLLGKVALGLYFSRDAYWEKLYVDQAA...   \n",
      "117609    P51451  MGLVSSKKPDKEKPIKEKDKGQWSPLKVSAQDKDAPPLPPLVVFNH...   \n",
      "117610    Q04759  MSPFLRIGLSNFDCGSCQSCQGEAVNPYCAVLVKEYVESENGQMYI...   \n",
      "117611    Q9UM73  MGAIGLLWLLPLLLSTAAVGSGMGTGQRAGSPAAGPPLQPREPLSY...   \n",
      "117612    P06241  MGCVQCKDKEATKLTEERDGSLNQSSGYRYGTDPTPQHYPSFGVTS...   \n",
      "\n",
      "                Y  Class       d_ID Gene name     gene_ID  \n",
      "0       11.100000      0   44138048     IKBKB  Gene::3551  \n",
      "1       11.100000      0   44138048     ERBB2  Gene::2064  \n",
      "2       11.100000      0   44138048       LCK  Gene::3932  \n",
      "3       11.100000      0   44138048      BRAF   Gene::673  \n",
      "4       11.100000      0   44138048      CDK2  Gene::1017  \n",
      "...           ...    ...        ...       ...         ...  \n",
      "117608  14.500117      1   49830508       RET  Gene::5979  \n",
      "117609  11.900001      0  136027078       BLK   Gene::640  \n",
      "117610  11.699999      0   49830756     PRKCQ  Gene::5588  \n",
      "117611  11.300000      0    9818231       ALK   Gene::238  \n",
      "117612  11.300000      0   49831052       FYN  Gene::2534  \n",
      "\n",
      "[117613 rows x 9 columns]\n"
     ]
    }
   ],
   "source": [
    "merged_df = kiba.merge(protein2gene[['UniProtKB Gene Name ID', 'Gene name', 'NCBI gene (formerly Entrezgene) ID']], left_on='Target_ID', right_on='UniProtKB Gene Name ID', how='left')\n",
    "\n",
    "# Drop the duplicated column\n",
    "merged_df.drop(columns='UniProtKB Gene Name ID', inplace=True)\n",
    "\n",
    "merged_df.rename(columns={'NCBI gene (formerly Entrezgene) ID': 'gene_ID'}, inplace=True)\n",
    "kiba = merged_df\n",
    "print(kiba)\n",
    "kiba.to_csv(\"kiba\")"
   ]
  },
  {
   "attachments": {},
   "cell_type": "markdown",
   "metadata": {},
   "source": [
    "### convert previous gene name to original gene name and hetionet node name"
   ]
  },
  {
   "cell_type": "code",
   "execution_count": 62,
   "metadata": {},
   "outputs": [
    {
     "name": "stdout",
     "output_type": "stream",
     "text": [
      "1255\n",
      "         Drug_ID                                     Drug Target_ID  \\\n",
      "0  CHEMBL1087421  COc1cc2c(cc1Cl)C(c1ccc(Cl)c(Cl)c1)=NCC2    O14920   \n",
      "1  CHEMBL1087421  COc1cc2c(cc1Cl)C(c1ccc(Cl)c(Cl)c1)=NCC2    P04626   \n",
      "2  CHEMBL1087421  COc1cc2c(cc1Cl)C(c1ccc(Cl)c(Cl)c1)=NCC2    P06239   \n",
      "\n",
      "                                              Target     Y  Class      d_ID  \\\n",
      "0  MSWSPSLTTQTCGAWEMKERLGTGGFGNVIRWHNQETGEQIAIKQC...  11.1      0  44138048   \n",
      "1  MELAALCRWGLLLALLPPGAASTQVCTGTDMKLRLPASPETHLDML...  11.1      0  44138048   \n",
      "2  MGCGCSSHPEDDWMENIDVCENCHYPIVPLDGKGTLLIRNGSEVRD...  11.1      0  44138048   \n",
      "\n",
      "  Gene name     gene_ID  \n",
      "0     IKBKB  Gene::3551  \n",
      "1     ERBB2  Gene::2064  \n",
      "2       LCK  Gene::3932  \n"
     ]
    }
   ],
   "source": [
    "print(kiba['gene_ID'].isna().sum())\n",
    "print(kiba.head(3))\n",
    "\n",
    "### genenames에 넣을 파일\n",
    "with open(\"kiba_previousgene\", 'w') as file:\n",
    "    for id in kiba['Gene name']:\n",
    "        file.write(str(id) + '\\n')"
   ]
  },
  {
   "cell_type": "code",
   "execution_count": 63,
   "metadata": {},
   "outputs": [],
   "source": [
    "# ### davis도 genenames에 넣어보기\n",
    "# davis = pd.read_csv(\"../davis/davis\", delimiter=\",\")\n",
    "# print(davis.columns)\n",
    "# print(davis.head(2))\n",
    "# for i in davis['Target_ID']:\n",
    "#     if len(i)> 8:\n",
    "#         print(i)\n",
    "# # with open(\"davis_previousgene\", 'w') as file:\n",
    "# #     for id in kiba['Target_ID']:\n",
    "# #         file.write(str(id) + '\\n')"
   ]
  },
  {
   "cell_type": "code",
   "execution_count": 64,
   "metadata": {},
   "outputs": [],
   "source": [
    "#### previous gene to official gene 먼저 진행 후 pubchem id to db id ㄱㄱ"
   ]
  },
  {
   "attachments": {},
   "cell_type": "markdown",
   "metadata": {},
   "source": [
    "## Convert pubchem id to  DB id"
   ]
  },
  {
   "cell_type": "code",
   "execution_count": 65,
   "metadata": {},
   "outputs": [],
   "source": [
    "import numpy as np\n",
    "import pandas as pd"
   ]
  },
  {
   "cell_type": "code",
   "execution_count": 66,
   "metadata": {},
   "outputs": [],
   "source": [
    "### mbrole2, pubchem input에 넣을 파일\n",
    "# import numpy as np\n",
    "\n",
    "# with open(\"kiba_pubchem\", 'w') as file:\n",
    "#     for id in kiba['d_ID']:\n",
    "#         file.write(str(id) + '\\n')"
   ]
  },
  {
   "cell_type": "code",
   "execution_count": 67,
   "metadata": {},
   "outputs": [
    {
     "name": "stdout",
     "output_type": "stream",
     "text": [
      "2064\n",
      "62\n",
      "       Input Input_source   Output Output_source\n",
      "0   10125830  PubChem CID  DB07078      DrugBank\n",
      "1   16046126  PubChem CID  DB06888      DrugBank\n",
      "2   17754396  PubChem CID  DB06932      DrugBank\n",
      "3   24856363  PubChem CID  DB07835      DrugBank\n",
      "4   10089048  PubChem CID  DB07811      DrugBank\n",
      "..       ...          ...      ...           ...\n",
      "57   5330812  PubChem CID  DB07664      DrugBank\n",
      "58      4592  PubChem CID  DB02116      DrugBank\n",
      "59   5280343  PubChem CID  DB04216      DrugBank\n",
      "60    448991  PubChem CID  DB02733      DrugBank\n",
      "61      2396  PubChem CID  DB03777      DrugBank\n",
      "\n",
      "[62 rows x 4 columns]\n"
     ]
    }
   ],
   "source": [
    "### mbrole2 output 결과 파일\n",
    "pubchem2drugbank =  pd.read_csv(\"mbrole2_conversion07062341.tsv\", delimiter='\\t')\n",
    "print(len(kiba['d_ID'].drop_duplicates()))\n",
    "print(len(pubchem2drugbank))\n",
    "print(pubchem2drugbank)\n"
   ]
  },
  {
   "cell_type": "code",
   "execution_count": 68,
   "metadata": {},
   "outputs": [
    {
     "name": "stdout",
     "output_type": "stream",
     "text": [
      "원본 샘플수 : 117762\n",
      "변환불가 결측치 : 112439\n",
      "원본 drug type 개수 : 2064\n",
      "변환불가 샘플 제거후 drug type 개수 : 87\n",
      "         Drug_ID                                     Drug Target_ID  \\\n",
      "0  CHEMBL1087421  COc1cc2c(cc1Cl)C(c1ccc(Cl)c(Cl)c1)=NCC2    O14920   \n",
      "1  CHEMBL1087421  COc1cc2c(cc1Cl)C(c1ccc(Cl)c(Cl)c1)=NCC2    P04626   \n",
      "2  CHEMBL1087421  COc1cc2c(cc1Cl)C(c1ccc(Cl)c(Cl)c1)=NCC2    P06239   \n",
      "\n",
      "                                              Target     Y  Class      d_ID  \\\n",
      "0  MSWSPSLTTQTCGAWEMKERLGTGGFGNVIRWHNQETGEQIAIKQC...  11.1      0  44138048   \n",
      "1  MELAALCRWGLLLALLPPGAASTQVCTGTDMKLRLPASPETHLDML...  11.1      0  44138048   \n",
      "2  MGCGCSSHPEDDWMENIDVCENCHYPIVPLDGKGTLLIRNGSEVRD...  11.1      0  44138048   \n",
      "\n",
      "  Gene name     gene_ID db_ID  \n",
      "0     IKBKB  Gene::3551   NaN  \n",
      "1     ERBB2  Gene::2064   NaN  \n",
      "2       LCK  Gene::3932   NaN  \n"
     ]
    }
   ],
   "source": [
    "### pubchem output 결과 파일\n",
    "pubchem2drugbank = pd.read_csv(\"kiba_pubchem2drugbank.txt\", sep='\\t',header=None)\n",
    "print(\"원본 샘플수 :\",len(pubchem2drugbank))\n",
    "print(\"변환불가 결측치 :\",pubchem2drugbank[1].isna().sum())\n",
    "print(\"원본 drug type 개수 :\",len(pubchem2drugbank[0].drop_duplicates()))\n",
    "print(\"변환불가 샘플 제거후 drug type 개수 :\",len(pubchem2drugbank[1].drop_duplicates()))\n",
    "kiba['db_ID'] = pubchem2drugbank[1]\n",
    "print(kiba.head(3))\n",
    "\n",
    "# notconverted = np.array(pubchem2drugbank[0][pubchem2drugbank[1].isna()].drop_duplicates())\n",
    "# for i in notconverted:\n",
    "#     print(i)"
   ]
  },
  {
   "cell_type": "code",
   "execution_count": 69,
   "metadata": {},
   "outputs": [
    {
     "name": "stdout",
     "output_type": "stream",
     "text": [
      "Index(['Drug_ID', 'Drug', 'Target_ID', 'Target', 'Y', 'Class', 'd_ID',\n",
      "       'Gene name', 'gene_ID', 'db_ID'],\n",
      "      dtype='object')\n",
      "0          True\n",
      "1          True\n",
      "2          True\n",
      "3          True\n",
      "4          True\n",
      "          ...  \n",
      "117608     True\n",
      "117609     True\n",
      "117610     True\n",
      "117611     True\n",
      "117612    False\n",
      "Name: db_ID, Length: 117613, dtype: bool\n"
     ]
    }
   ],
   "source": [
    "print(kiba.columns)\n",
    "print(kiba['db_ID'].isna())\n",
    "kiba_post = kiba.dropna()"
   ]
  },
  {
   "cell_type": "code",
   "execution_count": 70,
   "metadata": {},
   "outputs": [
    {
     "name": "stdout",
     "output_type": "stream",
     "text": [
      "5265\n",
      "              Drug_ID                                           Drug  \\\n",
      "282      CHEMBL202930  COc1cc(-c2ccc3c(c2)NC(=O)C3=Cc2ccc[nH]2)ccc1O   \n",
      "283      CHEMBL202930  COc1cc(-c2ccc3c(c2)NC(=O)C3=Cc2ccc[nH]2)ccc1O   \n",
      "284      CHEMBL202930  COc1cc(-c2ccc3c(c2)NC(=O)C3=Cc2ccc[nH]2)ccc1O   \n",
      "285      CHEMBL202930  COc1cc(-c2ccc3c(c2)NC(=O)C3=Cc2ccc[nH]2)ccc1O   \n",
      "286      CHEMBL202930  COc1cc(-c2ccc3c(c2)NC(=O)C3=Cc2ccc[nH]2)ccc1O   \n",
      "...               ...                                            ...   \n",
      "117539   CHEMBL413779  N#Cc1ncc2nc1OCCCCCOc1cc(OCCO)c(Cl)cc1NC(=O)N2   \n",
      "117559  CHEMBL1964644          O=C(NCc1ccccc1)Nc1ncc([N+](=O)[O-])s1   \n",
      "117578  CHEMBL1998414         Cc1[nH]nc2sc(C(=O)NCCc3ccc(Cl)cc3)cc12   \n",
      "117594  CHEMBL1990254         NCC(NC(=O)c1ccc(-c2ccncc2)cc1)c1ccccc1   \n",
      "117612  CHEMBL1984686                    Brc1ccc2cnc(Nc3ccncn3)cc2c1   \n",
      "\n",
      "       Target_ID                                             Target  \\\n",
      "282       O00141  MTVKTEAAKGTLTYSRMRGMVAILIAFMKQRRMGLNDFIQKIANNS...   \n",
      "283       O96017  MSRESDVEAQQSHGSSACSQPHGSVTQSQGSSSQSQGISSSSTSTM...   \n",
      "284       P00533  MRPSGTAGAALLALLAALCPASRALEEKKVCQGTSNKLTQLGTFED...   \n",
      "285       P06493  MEDYTKIEKIGEGTYGVVYKGRHKTTGQVVAMKKIRLESEEEGVPS...   \n",
      "286       P12931  MGSNKSKPKDASQRRRSLEPAENVHGAGGGAFPASQTPSKPASADG...   \n",
      "...          ...                                                ...   \n",
      "117539    P05129  MAGLGPGVGDSEGGPRPLFCRKGALRQKVVHEVKSHKFTARFFKQP...   \n",
      "117559    P51451  MGLVSSKKPDKEKPIKEKDKGQWSPLKVSAQDKDAPPLPPLVVFNH...   \n",
      "117578    Q16288  MDVSLCPAKCSFWRIFLLGSVWLDYVGSVLACPANCVCSKTEINCR...   \n",
      "117594    P22607  MGAPACALALCVAVAIVAGASSESLGTEQRVVGRAAEVPGPEPGQQ...   \n",
      "117612    P06241  MGCVQCKDKEATKLTEERDGSLNQSSGYRYGTDPTPQHYPSFGVTS...   \n",
      "\n",
      "                Y  Class      d_ID Gene name      gene_ID    db_ID  \n",
      "282     10.401030      0  10125830      SGK1   Gene::6446  DB07078  \n",
      "283     10.762940      0  10125830     CHEK2  Gene::11200  DB07078  \n",
      "284     10.401030      0  10125830      EGFR   Gene::1956  DB07078  \n",
      "285     10.401030      0  10125830      CDK1    Gene::983  DB07078  \n",
      "286     10.401030      0  10125830       SRC   Gene::6714  DB07078  \n",
      "...           ...    ...       ...       ...          ...      ...  \n",
      "117539  11.200000      0  11430448     PRKCG   Gene::5582  DB06436  \n",
      "117559  11.900001      0  10286133       BLK    Gene::640  DB12064  \n",
      "117578  12.299998      1  49830761     NTRK3   Gene::4916  DB12064  \n",
      "117594  11.800001      0  49830481     FGFR3   Gene::2261  DB07460  \n",
      "117612  11.300000      0  49831052       FYN   Gene::2534  DB08162  \n",
      "\n",
      "[5265 rows x 10 columns]\n",
      "Index(['Drug_ID', 'Drug', 'Target_ID', 'Target', 'Y', 'Class', 'd_ID',\n",
      "       'Gene name', 'gene_ID', 'db_ID'],\n",
      "      dtype='object')\n"
     ]
    }
   ],
   "source": [
    "print(len(kiba_post))\n",
    "print(kiba_post)\n",
    "print(kiba_post.columns)"
   ]
  },
  {
   "attachments": {},
   "cell_type": "markdown",
   "metadata": {},
   "source": [
    "## Get sumgnn format & train/val/test "
   ]
  },
  {
   "cell_type": "code",
   "execution_count": 71,
   "metadata": {},
   "outputs": [
    {
     "name": "stdout",
     "output_type": "stream",
     "text": [
      "          db_ID      gene_ID  Class\n",
      "282     DB07078   Gene::6446      0\n",
      "283     DB07078  Gene::11200      0\n",
      "284     DB07078   Gene::1956      0\n",
      "285     DB07078    Gene::983      0\n",
      "286     DB07078   Gene::6714      0\n",
      "...         ...          ...    ...\n",
      "117539  DB06436   Gene::5582      0\n",
      "117559  DB12064    Gene::640      0\n",
      "117578  DB12064   Gene::4916      1\n",
      "117594  DB07460   Gene::2261      0\n",
      "117612  DB08162   Gene::2534      0\n",
      "\n",
      "[5265 rows x 3 columns]\n",
      "282      DB07078\n",
      "1215     DB06888\n",
      "1620     DB06932\n",
      "2433     DB07835\n",
      "2474     DB07811\n",
      "          ...   \n",
      "81586    DB02116\n",
      "81772    DB04216\n",
      "81882    DB07364\n",
      "81964    DB02733\n",
      "82100    DB03777\n",
      "Name: db_ID, Length: 86, dtype: object\n"
     ]
    },
    {
     "data": {
      "text/plain": [
       "0    4067\n",
       "1    1198\n",
       "Name: Class, dtype: int64"
      ]
     },
     "execution_count": 71,
     "metadata": {},
     "output_type": "execute_result"
    }
   ],
   "source": [
    "dti = kiba_post[['db_ID','gene_ID','Class']]\n",
    "print(dti)\n",
    "print(dti['db_ID'].drop_duplicates())\n",
    "dti['Class'].value_counts()\n"
   ]
  },
  {
   "cell_type": "code",
   "execution_count": 72,
   "metadata": {},
   "outputs": [],
   "source": [
    "import json\n",
    "\n",
    "with open('entity_target.json', 'r') as f:\n",
    "    data = json.load(f)\n",
    "\n",
    "df = pd.json_normalize(data)\n",
    "\n",
    "df = df.T"
   ]
  },
  {
   "cell_type": "code",
   "execution_count": 73,
   "metadata": {},
   "outputs": [
    {
     "name": "stdout",
     "output_type": "stream",
     "text": [
      "5265\n"
     ]
    },
    {
     "name": "stderr",
     "output_type": "stream",
     "text": [
      "/tmp/ipykernel_3247563/2403471812.py:14: SettingWithCopyWarning: \n",
      "A value is trying to be set on a copy of a slice from a DataFrame.\n",
      "Try using .loc[row_indexer,col_indexer] = value instead\n",
      "\n",
      "See the caveats in the documentation: https://pandas.pydata.org/pandas-docs/stable/user_guide/indexing.html#returning-a-view-versus-a-copy\n",
      "  dti['gene_enco'] = temp_list\n"
     ]
    }
   ],
   "source": [
    "temp_list = []\n",
    "for i in dti['gene_ID'] :\n",
    "    exist = False\n",
    "    for cn, j in enumerate(df.index) :\n",
    "        length = len(df.index)\n",
    "        if i == j :\n",
    "            exist = True\n",
    "            val = int(df[0].loc[j])\n",
    "            temp_list.append(val)\n",
    "            break\n",
    "        elif cn == length -1 :\n",
    "            temp_list.append(np.nan)\n",
    "print(len(temp_list))\n",
    "dti['gene_enco'] = temp_list"
   ]
  },
  {
   "cell_type": "code",
   "execution_count": 83,
   "metadata": {},
   "outputs": [
    {
     "name": "stdout",
     "output_type": "stream",
     "text": [
      "214\n",
      "1394    73\n",
      "381     48\n",
      "313     19\n",
      "31      17\n",
      "1238    12\n",
      "882     12\n",
      "580     11\n",
      "616     11\n",
      "162     11\n",
      "dtype: int64\n"
     ]
    },
    {
     "name": "stderr",
     "output_type": "stream",
     "text": [
      "/tmp/ipykernel_3247563/1377383399.py:22: SettingWithCopyWarning: \n",
      "A value is trying to be set on a copy of a slice from a DataFrame.\n",
      "Try using .loc[row_indexer,col_indexer] = value instead\n",
      "\n",
      "See the caveats in the documentation: https://pandas.pydata.org/pandas-docs/stable/user_guide/indexing.html#returning-a-view-versus-a-copy\n",
      "  dti['drug_enco'] = temp_list2\n"
     ]
    }
   ],
   "source": [
    "import json\n",
    "\n",
    "json_file = 'node2id.json'\n",
    "with open(json_file) as f:\n",
    "    data = json.load(f)\n",
    "\n",
    "temp_list2 = [] \n",
    "for i in dti[\"db_ID\"].copy() :\n",
    "    exist = False\n",
    "    count = 0\n",
    "    for name, number in data.items() :\n",
    "        length = len(data)\n",
    "        if i == name :\n",
    "            exist = True\n",
    "            temp_list2.append(int(number))\n",
    "            break\n",
    "        elif count >= length -1 :\n",
    "            temp_list2.append(np.nan)\n",
    "        count += 1\n",
    "print(len(temp_list2))\n",
    "print(pd.Series(temp_list2).value_counts())\n",
    "dti['drug_enco'] = temp_list2"
   ]
  },
  {
   "cell_type": "code",
   "execution_count": 84,
   "metadata": {},
   "outputs": [
    {
     "name": "stdout",
     "output_type": "stream",
     "text": [
      "          db_ID      gene_ID  Class  gene_enco  drug_enco\n",
      "62409   DB12332   Gene::9149      1       7152        381\n",
      "62410   DB12332   Gene::1111      0       5038        381\n",
      "62411   DB12332  Gene::11200      0       3141        381\n",
      "62412   DB12332    Gene::983      0       1784        381\n",
      "62413   DB12332   Gene::3815      1       3811        381\n",
      "...         ...          ...    ...        ...        ...\n",
      "115380  DB12332    Gene::816      0       6130        381\n",
      "115514  DB09073   Gene::2872      0       2511       1394\n",
      "115776  DB12332   Gene::5566      0       2273        381\n",
      "115811  DB00643   Gene::9833      1       6959        580\n",
      "116434  DB12332   Gene::3984      0       3088        381\n",
      "\n",
      "[214 rows x 5 columns]\n",
      "          db_ID      gene_ID  Class  gene_enco  drug_enco\n",
      "62409   DB12332   Gene::9149      1       7152        381\n",
      "62410   DB12332   Gene::1111      0       5038        381\n",
      "62411   DB12332  Gene::11200      0       3141        381\n",
      "62412   DB12332    Gene::983      0       1784        381\n",
      "62413   DB12332   Gene::3815      1       3811        381\n",
      "...         ...          ...    ...        ...        ...\n",
      "115380  DB12332    Gene::816      0       6130        381\n",
      "115514  DB09073   Gene::2872      0       2511       1394\n",
      "115776  DB12332   Gene::5566      0       2273        381\n",
      "115811  DB00643   Gene::9833      1       6959        580\n",
      "116434  DB12332   Gene::3984      0       3088        381\n",
      "\n",
      "[214 rows x 5 columns]\n",
      "0    156\n",
      "1     58\n",
      "Name: Class, dtype: int64\n"
     ]
    },
    {
     "name": "stderr",
     "output_type": "stream",
     "text": [
      "/home/wjdtjr980/.conda/envs/sumgnn/lib/python3.8/site-packages/pandas/util/_decorators.py:311: SettingWithCopyWarning: \n",
      "A value is trying to be set on a copy of a slice from a DataFrame\n",
      "\n",
      "See the caveats in the documentation: https://pandas.pydata.org/pandas-docs/stable/user_guide/indexing.html#returning-a-view-versus-a-copy\n",
      "  return func(*args, **kwargs)\n"
     ]
    }
   ],
   "source": [
    "print(dti)\n",
    "dti.dropna(inplace=True)\n",
    "print(dti)\n",
    "print(dti['Class'].value_counts())"
   ]
  },
  {
   "cell_type": "code",
   "execution_count": 85,
   "metadata": {},
   "outputs": [],
   "source": [
    "dti[['gene_enco', 'drug_enco', 'Class']].to_csv('kiba.txt', sep=' ', index=False, header=None)"
   ]
  },
  {
   "attachments": {},
   "cell_type": "markdown",
   "metadata": {},
   "source": [
    "### 7:1:2 train/val/test split"
   ]
  },
  {
   "cell_type": "code",
   "execution_count": 77,
   "metadata": {},
   "outputs": [],
   "source": [
    "import random\n",
    "\n",
    "# Set the random seed for reproducibility\n",
    "random.seed(42)\n",
    "\n",
    "# Define the file paths\n",
    "input_file = \"kiba.txt\"\n",
    "output_train = \"train.txt\"\n",
    "output_dev = \"dev.txt\"\n",
    "output_test = \"test.txt\"\n",
    "\n",
    "# Read the input dataset\n",
    "with open(input_file, \"r\") as file:\n",
    "    lines = file.readlines()\n",
    "\n",
    "# Shuffle the lines randomly\n",
    "random.shuffle(lines)\n",
    "\n",
    "# Calculate the split sizes\n",
    "total_lines = len(lines)\n",
    "train_size = int(0.7 * total_lines)\n",
    "dev_size = int(0.1 * total_lines)\n",
    "\n",
    "# Split the dataset\n",
    "train_data = lines[:train_size]\n",
    "dev_data = lines[train_size : train_size + dev_size]\n",
    "test_data = lines[train_size + dev_size:]\n",
    "\n",
    "# Save the split datasets to separate files\n",
    "with open(output_train, \"w\") as file:\n",
    "    file.writelines(train_data)\n",
    "\n",
    "with open(output_dev, \"w\") as file:\n",
    "    file.writelines(dev_data)\n",
    "\n",
    "with open(output_test, \"w\") as file:\n",
    "    file.writelines(test_data)"
   ]
  },
  {
   "cell_type": "code",
   "execution_count": null,
   "metadata": {},
   "outputs": [],
   "source": []
  }
 ],
 "metadata": {
  "kernelspec": {
   "display_name": "sumgnn",
   "language": "python",
   "name": "sumgnn"
  },
  "language_info": {
   "codemirror_mode": {
    "name": "ipython",
    "version": 3
   },
   "file_extension": ".py",
   "mimetype": "text/x-python",
   "name": "python",
   "nbconvert_exporter": "python",
   "pygments_lexer": "ipython3",
   "version": "3.8.15"
  },
  "orig_nbformat": 4
 },
 "nbformat": 4,
 "nbformat_minor": 2
}
